{
 "cells": [
  {
   "cell_type": "code",
   "execution_count": 5,
   "metadata": {},
   "outputs": [],
   "source": [
    "import re"
   ]
  },
  {
   "cell_type": "markdown",
   "metadata": {},
   "source": [
    "\n",
    "<h2>MetaCharacters</h2>\n",
    "\n",
    "<pre>  Metacharacters are characters that are interpreted in a special way by a RegEx engine. Here's a list of metacharacters</pre>"
   ]
  },
  {
   "cell_type": "markdown",
   "metadata": {},
   "source": [
    "\n",
    "In regular expressions, there are twelve metacharacters that should be escaped if they are to be used with their literal meaning:\n",
    "\n",
    "- Backslash `\\`\n",
    "- Caret `^` : The caret symbol ^ is used to check if a string starts with a certain character.\n",
    "- Dollar sign `$` : The dollar symbol $ is used to check if a string ends with a certain character.\n",
    "- Dot `.` : A period matches any single character (except newline '\\n').\n",
    "- Pipe symbol `|` : Vertical bar | is used for alternation (or operator).\n",
    "\n",
    "<pre>\n",
    "Expression\t=> a|b\n",
    "cde\tNo match\n",
    "ade\t1 match (match at ade)\n",
    "acdbea\t3 matches (at acdbea)\n",
    "Here, a|b match any string that contains either a or b</pre>\n",
    "\n",
    "- Question mark `?` : The question mark symbol ? matches zero or one occurrence of the pattern left to it.\n",
    "- Asterisk `*` : The star symbol * matches zero or more occurrences of the pattern left to it.\n",
    "- Plus sign `+` : The plus symbol + matches one or more occurrences of the pattern left to it.\n",
    "- parenthesis `()` : Parentheses () is used to group sub-patterns.\n",
    "\n",
    "<pre>\n",
    "For example, (a|b|c)xz match any string that matches either a or b or c followed by xz\n",
    "Expression => (a|b|c)xz\t\n",
    "ab xz\tNo match\n",
    "abxz\t1 match (match at a'bxz')\n",
    "axz cabxz\t2 matches (at 'axz'bc ca'bxz')\n",
    "\n",
    "</pre>\n",
    "\n"
   ]
  },
  {
   "cell_type": "markdown",
   "metadata": {},
   "source": [
    "- square bracket `[]` : Square brackets specifies a set of characters you wish to match.\n",
    "- The curly brace `{}`Consider this code: {n,m}. This means at least n, and at most m repetitions of the pattern left to it.\n",
    "\n",
    "<pre>Expression => a{2,3}\n",
    "abc  dat - No match\n",
    "abc  daat - 1 match (at daat)\n",
    "aabc  daaat - 2 matches (at aabc and daaat)\n",
    "aabc  daaaat - 2 matches (at aabc and daaaat)\n",
    "\n",
    "\n",
    "Expression => [0-9]{2,4}\n",
    "ab123csde -\t1 match (match at ab123csde)\n",
    "12 and 345673 -\t3 matches - (12, 3456, 73)\n",
    "1 and 2 - No match</pre>"
   ]
  },
  {
   "cell_type": "markdown",
   "metadata": {},
   "source": [
    "# Predefined Character Classes\n",
    "\n",
    "There exist some predefined character classes which can be used as a shortcut for some frequently used classes.\n",
    "\n",
    "\n",
    "<table style=\"border: 1px solid black; font-size:15px;\">\n",
    "<thead>\n",
    "    <th>Element</th>\n",
    "    <th>Description</th>\n",
    "</thead>\n",
    "    \n",
    "<tbody>\n",
    "<tr>\n",
    "    <td>.</td>\n",
    "    <td>This element matches any character except newline</td>\n",
    "</tr>\n",
    "\n",
    "<tr>\n",
    "    <td>\\d</td>\n",
    "    <td>This matches any decimal digit; this is equivalent to the class [0-9]</td>\n",
    "</tr>\n",
    "\n",
    "<tr>\n",
    "    <td>\\D</td>\n",
    "    <td>This matches any non-digit character; this is equivalent to the class [^0-9]</td>\n",
    "</tr>\n",
    "\n",
    "<tr>\n",
    "    <td>\\s</td>\n",
    "    <td>This matches any whitespace character; this is equivalent to the class\n",
    "[ \\t\\n\\r\\f\\v]</td>\n",
    "</tr>\n",
    "\n",
    "<tr>\n",
    "    <td>\\S</td>\n",
    "    <td>This matches any non-whitespace character; this is equivalent to the class\n",
    "[^ \\t\\n\\r\\f\\v]</td>\n",
    "</tr>\n",
    "\n",
    "<tr>\n",
    "    <td>\\w</td>\n",
    "    <td>This matches any alphanumeric character; this is equivalent to the class\n",
    "[a-zA-Z0-9_]</td>\n",
    "</tr>\n",
    "    \n",
    "<tr>\n",
    "    <td>\\W</td>\n",
    "    <td>This matches any non-alphanumeric character; this is equivalent to the\n",
    "class [^a-zA-Z0-9_]</td>\n",
    "</tr>\n",
    "</tbody>\n",
    "</table>\n",
    "\n",
    "\n",
    "Now, we can improve our pattern to find years in a given text a bit:"
   ]
  }
 ],
 "metadata": {
  "kernelspec": {
   "display_name": "Python 3",
   "language": "python",
   "name": "python3"
  },
  "language_info": {
   "codemirror_mode": {
    "name": "ipython",
    "version": 3
   },
   "file_extension": ".py",
   "mimetype": "text/x-python",
   "name": "python",
   "nbconvert_exporter": "python",
   "pygments_lexer": "ipython3",
   "version": "3.7.4"
  }
 },
 "nbformat": 4,
 "nbformat_minor": 4
}
