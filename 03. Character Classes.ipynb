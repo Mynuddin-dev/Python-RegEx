{
 "cells": [
  {
   "cell_type": "markdown",
   "metadata": {},
   "source": [
    "# Character Classes\n",
    "\n",
    "- The **character classes** (also known as **character sets**) allow us to define a character that will match if any of the defined characters on the set is present.\n",
    "\n",
    "\n",
    "- To define a character class, we should use the opening square bracket metacharacter `[`, then any accepted characters, and finally close with a closing square bracket `]`.\n",
    "\n",
    "### Example 1\n",
    "\n",
    "Consider an example below where we have messed up between `license` and `licence` spellings and want to find all occurances of `license`/`licence` in the text."
   ]
  },
  {
   "cell_type": "code",
   "execution_count": 1,
   "metadata": {},
   "outputs": [],
   "source": [
    "import re\n",
    "from utils import highlight_regex_matches"
   ]
  },
  {
   "cell_type": "code",
   "execution_count": 2,
   "metadata": {},
   "outputs": [],
   "source": [
    "txt = \"\"\"\n",
    "Yesterday, I was driving my car without a driving licence. The traffic police stopped me and asked me for my \n",
    "license. I told them that I forgot my licence at home. \n",
    "\"\"\""
   ]
  },
  {
   "cell_type": "code",
   "execution_count": 3,
   "metadata": {},
   "outputs": [],
   "source": [
    "pattern = re.compile(\"licen[cs]e\")"
   ]
  },
  {
   "cell_type": "code",
   "execution_count": 4,
   "metadata": {},
   "outputs": [
    {
     "name": "stdout",
     "output_type": "stream",
     "text": [
      "re.compile('licen[cs]e')\n"
     ]
    }
   ],
   "source": [
    "print(pattern)"
   ]
  },
  {
   "cell_type": "code",
   "execution_count": 5,
   "metadata": {},
   "outputs": [
    {
     "data": {
      "text/plain": [
       "['licence', 'license', 'licence']"
      ]
     },
     "execution_count": 5,
     "metadata": {},
     "output_type": "execute_result"
    }
   ],
   "source": [
    "pattern.findall(txt)"
   ]
  },
  {
   "cell_type": "code",
   "execution_count": 6,
   "metadata": {},
   "outputs": [
    {
     "name": "stdout",
     "output_type": "stream",
     "text": [
      "\n",
      "Yesterday, I was driving my car without a driving \u001b[42m\u001b[1mlicence\u001b[0m. The traffic police stopped me and asked me for my \n",
      "\u001b[42m\u001b[1mlicense\u001b[0m. I told them that I forgot my \u001b[42m\u001b[1mlicence\u001b[0m at home. \n",
      "\n"
     ]
    }
   ],
   "source": [
    "highlight_regex_matches(pattern, txt)"
   ]
  },
  {
   "cell_type": "markdown",
   "metadata": {},
   "source": [
    "![](images/example2.png)"
   ]
  },
  {
   "cell_type": "markdown",
   "metadata": {},
   "source": [
    "# Character Set Range\n",
    "\n",
    "> It is possible to also use the range of a character. This is done by leveraging the hyphen symbol (-) between two related characters; for example, to match any lowercase letter we can use `[a-z]`. Likewise, to match any single digit we can define the character set `[0-9]`.\n",
    "\n",
    "Let us consider an example in which we want to retrieve all the years from the given text."
   ]
  },
  {
   "cell_type": "markdown",
   "metadata": {},
   "source": [
    "\n",
    "[0123456789]\n",
    "\n",
    "[0-9]\n",
    "\n",
    "[`a`-`z`]\n",
    "\n",
    "[`A`-`Z`]\n",
    "\n",
    "[a-zA-Z0-1]\n",
    "\n",
    "[a-e] = [abcde]"
   ]
  },
  {
   "cell_type": "code",
   "execution_count": null,
   "metadata": {},
   "outputs": [],
   "source": []
  },
  {
   "cell_type": "code",
   "execution_count": null,
   "metadata": {},
   "outputs": [],
   "source": []
  },
  {
   "cell_type": "code",
   "execution_count": 7,
   "metadata": {},
   "outputs": [],
   "source": [
    "txt = \"\"\"\n",
    "The first season of Indian Premiere League (IPL) was played in 2008. \n",
    "The second season was played in 2009 in South Africa. \n",
    "Last season was played in 2018 and won by Chennai Super Kings (CSK).\n",
    "CSK won the title in 2010 and 2011 as well.\n",
    "Mumbai Indians (MI) has also won the title 3 times in 2013, 2015 and 2017.\n",
    "\"\"\""
   ]
  },
  {
   "cell_type": "code",
   "execution_count": 8,
   "metadata": {},
   "outputs": [],
   "source": [
    "pattern = re.compile(\"[1-9][0-9][0-9][0-9]\")"
   ]
  },
  {
   "cell_type": "code",
   "execution_count": 9,
   "metadata": {},
   "outputs": [
    {
     "data": {
      "text/plain": [
       "['2008', '2009', '2018', '2010', '2011', '2013', '2015', '2017']"
      ]
     },
     "execution_count": 9,
     "metadata": {},
     "output_type": "execute_result"
    }
   ],
   "source": [
    "pattern.findall(txt)"
   ]
  },
  {
   "cell_type": "code",
   "execution_count": 10,
   "metadata": {},
   "outputs": [
    {
     "name": "stdout",
     "output_type": "stream",
     "text": [
      "\n",
      "The first season of Indian Premiere League (IPL) was played in \u001b[42m\u001b[1m2008\u001b[0m. \n",
      "The second season was played in \u001b[42m\u001b[1m2009\u001b[0m in South Africa. \n",
      "Last season was played in \u001b[42m\u001b[1m2018\u001b[0m and won by Chennai Super Kings (CSK).\n",
      "CSK won the title in \u001b[42m\u001b[1m2010\u001b[0m and \u001b[42m\u001b[1m2011\u001b[0m as well.\n",
      "Mumbai Indians (MI) has also won the title 3 times in \u001b[42m\u001b[1m2013\u001b[0m, \u001b[42m\u001b[1m2015\u001b[0m and \u001b[42m\u001b[1m2017\u001b[0m.\n",
      "\n"
     ]
    }
   ],
   "source": [
    "highlight_regex_matches(pattern, txt)"
   ]
  },
  {
   "cell_type": "markdown",
   "metadata": {},
   "source": [
    "> There is another possibility—the negation of ranges. We can invert the meaning\n",
    "of a character set by placing a caret (`^`) symbol right after the opening square\n",
    "bracket metacharacter (`[`).\n",
    "\n",
    "For example, to find all the characters used in a text except vowels, we can use the pattern:"
   ]
  },
  {
   "cell_type": "code",
   "execution_count": 11,
   "metadata": {},
   "outputs": [],
   "source": [
    "# [^A-Z0-9] that means avoid them or except them"
   ]
  },
  {
   "cell_type": "code",
   "execution_count": 12,
   "metadata": {},
   "outputs": [],
   "source": [
    "pattern = re.compile(\"[^aeiou]\")"
   ]
  },
  {
   "cell_type": "code",
   "execution_count": 13,
   "metadata": {
    "scrolled": true
   },
   "outputs": [
    {
     "data": {
      "text/plain": [
       "['\\n',\n",
       " 'T',\n",
       " 'h',\n",
       " ' ',\n",
       " 'f',\n",
       " 'r',\n",
       " 's',\n",
       " 't',\n",
       " ' ',\n",
       " 's',\n",
       " 's',\n",
       " 'n',\n",
       " ' ',\n",
       " 'f',\n",
       " ' ',\n",
       " 'I',\n",
       " 'n',\n",
       " 'd',\n",
       " 'n',\n",
       " ' ',\n",
       " 'P',\n",
       " 'r',\n",
       " 'm',\n",
       " 'r',\n",
       " ' ',\n",
       " 'L',\n",
       " 'g',\n",
       " ' ',\n",
       " '(',\n",
       " 'I',\n",
       " 'P',\n",
       " 'L',\n",
       " ')',\n",
       " ' ',\n",
       " 'w',\n",
       " 's',\n",
       " ' ',\n",
       " 'p',\n",
       " 'l',\n",
       " 'y',\n",
       " 'd',\n",
       " ' ',\n",
       " 'n',\n",
       " ' ',\n",
       " '2',\n",
       " '0',\n",
       " '0',\n",
       " '8',\n",
       " '.',\n",
       " ' ',\n",
       " '\\n',\n",
       " 'T',\n",
       " 'h',\n",
       " ' ',\n",
       " 's',\n",
       " 'c',\n",
       " 'n',\n",
       " 'd',\n",
       " ' ',\n",
       " 's',\n",
       " 's',\n",
       " 'n',\n",
       " ' ',\n",
       " 'w',\n",
       " 's',\n",
       " ' ',\n",
       " 'p',\n",
       " 'l',\n",
       " 'y',\n",
       " 'd',\n",
       " ' ',\n",
       " 'n',\n",
       " ' ',\n",
       " '2',\n",
       " '0',\n",
       " '0',\n",
       " '9',\n",
       " ' ',\n",
       " 'n',\n",
       " ' ',\n",
       " 'S',\n",
       " 't',\n",
       " 'h',\n",
       " ' ',\n",
       " 'A',\n",
       " 'f',\n",
       " 'r',\n",
       " 'c',\n",
       " '.',\n",
       " ' ',\n",
       " '\\n',\n",
       " 'L',\n",
       " 's',\n",
       " 't',\n",
       " ' ',\n",
       " 's',\n",
       " 's',\n",
       " 'n',\n",
       " ' ',\n",
       " 'w',\n",
       " 's',\n",
       " ' ',\n",
       " 'p',\n",
       " 'l',\n",
       " 'y',\n",
       " 'd',\n",
       " ' ',\n",
       " 'n',\n",
       " ' ',\n",
       " '2',\n",
       " '0',\n",
       " '1',\n",
       " '8',\n",
       " ' ',\n",
       " 'n',\n",
       " 'd',\n",
       " ' ',\n",
       " 'w',\n",
       " 'n',\n",
       " ' ',\n",
       " 'b',\n",
       " 'y',\n",
       " ' ',\n",
       " 'C',\n",
       " 'h',\n",
       " 'n',\n",
       " 'n',\n",
       " ' ',\n",
       " 'S',\n",
       " 'p',\n",
       " 'r',\n",
       " ' ',\n",
       " 'K',\n",
       " 'n',\n",
       " 'g',\n",
       " 's',\n",
       " ' ',\n",
       " '(',\n",
       " 'C',\n",
       " 'S',\n",
       " 'K',\n",
       " ')',\n",
       " '.',\n",
       " '\\n',\n",
       " 'C',\n",
       " 'S',\n",
       " 'K',\n",
       " ' ',\n",
       " 'w',\n",
       " 'n',\n",
       " ' ',\n",
       " 't',\n",
       " 'h',\n",
       " ' ',\n",
       " 't',\n",
       " 't',\n",
       " 'l',\n",
       " ' ',\n",
       " 'n',\n",
       " ' ',\n",
       " '2',\n",
       " '0',\n",
       " '1',\n",
       " '0',\n",
       " ' ',\n",
       " 'n',\n",
       " 'd',\n",
       " ' ',\n",
       " '2',\n",
       " '0',\n",
       " '1',\n",
       " '1',\n",
       " ' ',\n",
       " 's',\n",
       " ' ',\n",
       " 'w',\n",
       " 'l',\n",
       " 'l',\n",
       " '.',\n",
       " '\\n',\n",
       " 'M',\n",
       " 'm',\n",
       " 'b',\n",
       " ' ',\n",
       " 'I',\n",
       " 'n',\n",
       " 'd',\n",
       " 'n',\n",
       " 's',\n",
       " ' ',\n",
       " '(',\n",
       " 'M',\n",
       " 'I',\n",
       " ')',\n",
       " ' ',\n",
       " 'h',\n",
       " 's',\n",
       " ' ',\n",
       " 'l',\n",
       " 's',\n",
       " ' ',\n",
       " 'w',\n",
       " 'n',\n",
       " ' ',\n",
       " 't',\n",
       " 'h',\n",
       " ' ',\n",
       " 't',\n",
       " 't',\n",
       " 'l',\n",
       " ' ',\n",
       " '3',\n",
       " ' ',\n",
       " 't',\n",
       " 'm',\n",
       " 's',\n",
       " ' ',\n",
       " 'n',\n",
       " ' ',\n",
       " '2',\n",
       " '0',\n",
       " '1',\n",
       " '3',\n",
       " ',',\n",
       " ' ',\n",
       " '2',\n",
       " '0',\n",
       " '1',\n",
       " '5',\n",
       " ' ',\n",
       " 'n',\n",
       " 'd',\n",
       " ' ',\n",
       " '2',\n",
       " '0',\n",
       " '1',\n",
       " '7',\n",
       " '.',\n",
       " '\\n']"
      ]
     },
     "execution_count": 13,
     "metadata": {},
     "output_type": "execute_result"
    }
   ],
   "source": [
    "pattern.findall(txt)"
   ]
  },
  {
   "cell_type": "code",
   "execution_count": 14,
   "metadata": {},
   "outputs": [
    {
     "name": "stdout",
     "output_type": "stream",
     "text": [
      "\n",
      "Th frst ssn f Indn Prmr Lg (IPL) ws plyd n 2008. \n",
      "Th scnd ssn ws plyd n 2009 n Sth Afrc. \n",
      "Lst ssn ws plyd n 2018 nd wn by Chnn Spr Kngs (CSK).\n",
      "CSK wn th ttl n 2010 nd 2011 s wll.\n",
      "Mmb Indns (MI) hs ls wn th ttl 3 tms n 2013, 2015 nd 2017.\n",
      "\n"
     ]
    }
   ],
   "source": [
    "print(\"\".join(pattern.findall(txt)))"
   ]
  },
  {
   "cell_type": "markdown",
   "metadata": {},
   "source": [
    "# Predefined Character Classes\n",
    "\n",
    "There exist some predefined character classes which can be used as a shortcut for some frequently used classes.\n",
    "\n",
    "\n",
    "<table style=\"border: 1px solid black; font-size:15px;\">\n",
    "<thead>\n",
    "    <th>Element</th>\n",
    "    <th>Description</th>\n",
    "</thead>\n",
    "    \n",
    "<tbody>\n",
    "<tr>\n",
    "    <td>.</td>\n",
    "    <td>This element matches any character except newline</td>\n",
    "</tr>\n",
    "\n",
    "<tr>\n",
    "    <td>\\d</td>\n",
    "    <td>This matches any decimal digit; this is equivalent to the class [0-9]</td>\n",
    "</tr>\n",
    "\n",
    "<tr>\n",
    "    <td>\\D</td>\n",
    "    <td>This matches any non-digit character; this is equivalent to the class [^0-9]</td>\n",
    "</tr>\n",
    "\n",
    "<tr>\n",
    "    <td>\\s</td>\n",
    "    <td>This matches any whitespace character; this is equivalent to the class\n",
    "[ \\t\\n\\r\\f\\v]</td>\n",
    "</tr>\n",
    "\n",
    "<tr>\n",
    "    <td>\\S</td>\n",
    "    <td>This matches any non-whitespace character; this is equivalent to the class\n",
    "[^ \\t\\n\\r\\f\\v]</td>\n",
    "</tr>\n",
    "\n",
    "<tr>\n",
    "    <td>\\w</td>\n",
    "    <td>This matches any alphanumeric character; this is equivalent to the class\n",
    "[a-zA-Z0-9_]</td>\n",
    "</tr>\n",
    "    \n",
    "<tr>\n",
    "    <td>\\W</td>\n",
    "    <td>This matches any non-alphanumeric character; this is equivalent to the\n",
    "class [^a-zA-Z0-9_]</td>\n",
    "</tr>\n",
    "</tbody>\n",
    "</table>\n",
    "\n",
    "\n",
    "Now, we can improve our pattern to find years in a given text a bit:"
   ]
  },
  {
   "cell_type": "code",
   "execution_count": 15,
   "metadata": {},
   "outputs": [],
   "source": [
    "pattern = re.compile(\"[1-9]\\d\\d\\d\")"
   ]
  },
  {
   "cell_type": "code",
   "execution_count": 16,
   "metadata": {},
   "outputs": [
    {
     "data": {
      "text/plain": [
       "['2008', '2009', '2018', '2010', '2011', '2013', '2015', '2017']"
      ]
     },
     "execution_count": 16,
     "metadata": {},
     "output_type": "execute_result"
    }
   ],
   "source": [
    "pattern.findall(txt)"
   ]
  },
  {
   "cell_type": "markdown",
   "metadata": {},
   "source": [
    "Let us try to find out all special symbols (non-alphanumeric, non-whitespace characters) in our text now."
   ]
  },
  {
   "cell_type": "code",
   "execution_count": 17,
   "metadata": {
    "scrolled": true
   },
   "outputs": [
    {
     "data": {
      "text/plain": [
       "['(', ')', '.', '.', '(', ')', '.', '.', '(', ')', ',', '.']"
      ]
     },
     "execution_count": 17,
     "metadata": {},
     "output_type": "execute_result"
    }
   ],
   "source": [
    "re.findall(\"[^\\w\\s]\", txt)"
   ]
  },
  {
   "cell_type": "code",
   "execution_count": 18,
   "metadata": {},
   "outputs": [
    {
     "data": {
      "text/plain": [
       "['\\n',\n",
       " ' ',\n",
       " ' ',\n",
       " ' ',\n",
       " ' ',\n",
       " ' ',\n",
       " ' ',\n",
       " ' ',\n",
       " '(',\n",
       " ')',\n",
       " ' ',\n",
       " ' ',\n",
       " ' ',\n",
       " ' ',\n",
       " '.',\n",
       " ' ',\n",
       " '\\n',\n",
       " ' ',\n",
       " ' ',\n",
       " ' ',\n",
       " ' ',\n",
       " ' ',\n",
       " ' ',\n",
       " ' ',\n",
       " ' ',\n",
       " ' ',\n",
       " '.',\n",
       " ' ',\n",
       " '\\n',\n",
       " ' ',\n",
       " ' ',\n",
       " ' ',\n",
       " ' ',\n",
       " ' ',\n",
       " ' ',\n",
       " ' ',\n",
       " ' ',\n",
       " ' ',\n",
       " ' ',\n",
       " ' ',\n",
       " ' ',\n",
       " '(',\n",
       " ')',\n",
       " '.',\n",
       " '\\n',\n",
       " ' ',\n",
       " ' ',\n",
       " ' ',\n",
       " ' ',\n",
       " ' ',\n",
       " ' ',\n",
       " ' ',\n",
       " ' ',\n",
       " ' ',\n",
       " '.',\n",
       " '\\n',\n",
       " ' ',\n",
       " ' ',\n",
       " '(',\n",
       " ')',\n",
       " ' ',\n",
       " ' ',\n",
       " ' ',\n",
       " ' ',\n",
       " ' ',\n",
       " ' ',\n",
       " ' ',\n",
       " ' ',\n",
       " ' ',\n",
       " ',',\n",
       " ' ',\n",
       " ' ',\n",
       " ' ',\n",
       " '.',\n",
       " '\\n']"
      ]
     },
     "execution_count": 18,
     "metadata": {},
     "output_type": "execute_result"
    }
   ],
   "source": [
    "re.findall(\"[\\W]\", txt)"
   ]
  },
  {
   "cell_type": "code",
   "execution_count": null,
   "metadata": {},
   "outputs": [],
   "source": [
    "# Just practice from Made Easy\n",
    "#Character sets can match a set of characters"
   ]
  },
  {
   "cell_type": "code",
   "execution_count": 1,
   "metadata": {},
   "outputs": [],
   "source": [
    "import re"
   ]
  },
  {
   "cell_type": "code",
   "execution_count": 2,
   "metadata": {},
   "outputs": [
    {
     "data": {
      "text/plain": [
       "<re.Match object; span=(0, 4), match='abcd'>"
      ]
     },
     "execution_count": 2,
     "metadata": {},
     "output_type": "execute_result"
    }
   ],
   "source": [
    "re.search('abcd',\"abcdefnc abcd\" ) # earlier code"
   ]
  },
  {
   "cell_type": "code",
   "execution_count": 3,
   "metadata": {},
   "outputs": [
    {
     "data": {
      "text/plain": [
       "<re.Match object; span=(0, 4), match='abcd'>"
      ]
     },
     "execution_count": 3,
     "metadata": {},
     "output_type": "execute_result"
    }
   ],
   "source": [
    "re.search(r'\\w\\w\\w\\w',\"abcdefnc abcd\" )      #matches characters and numbers\n",
    "                                        #alpha numeric characters "
   ]
  },
  {
   "cell_type": "code",
   "execution_count": 4,
   "metadata": {},
   "outputs": [
    {
     "data": {
      "text/plain": [
       "<re.Match object; span=(0, 4), match='ab_c'>"
      ]
     },
     "execution_count": 4,
     "metadata": {},
     "output_type": "execute_result"
    }
   ],
   "source": [
    "#\\w matches alpha numeric characters [a-zA-Z0-9_]\n",
    "re.search(r'\\w\\w\\w\\w',\"ab_cdefnc abcd\" ) #matches _ character\n"
   ]
  },
  {
   "cell_type": "code",
   "execution_count": 5,
   "metadata": {},
   "outputs": [],
   "source": [
    "re.search(r'\\w\\w\\w', \"a3.!-!\")  #doesn't match symbols only numbers and \n",
    "                                #    characters"
   ]
  },
  {
   "cell_type": "code",
   "execution_count": 6,
   "metadata": {},
   "outputs": [
    {
     "data": {
      "text/plain": [
       "'a33'"
      ]
     },
     "execution_count": 6,
     "metadata": {},
     "output_type": "execute_result"
    }
   ],
   "source": [
    "re.search(r'\\w\\w\\w', \"a33-_!\") .group()"
   ]
  },
  {
   "cell_type": "code",
   "execution_count": 7,
   "metadata": {},
   "outputs": [
    {
     "data": {
      "text/plain": [
       "<re.Match object; span=(0, 3), match='a3.'>"
      ]
     },
     "execution_count": 7,
     "metadata": {},
     "output_type": "execute_result"
    }
   ],
   "source": [
    "##\\W  opposite of \\w ; so nothing included in   [a-zA-Z0-9_]\n",
    "\n",
    "re.search(r'\\w\\w\\W', \"a3.-_!\") # \\W matches non characters and numbers"
   ]
  },
  {
   "cell_type": "code",
   "execution_count": 8,
   "metadata": {},
   "outputs": [
    {
     "data": {
      "text/plain": [
       "<re.Match object; span=(0, 3), match='a3 '>"
      ]
     },
     "execution_count": 8,
     "metadata": {},
     "output_type": "execute_result"
    }
   ],
   "source": [
    "re.search(r'\\w\\w\\W', \"a3 .-_!\")   # matches empty space as well\n",
    "\n",
    "##We will go over other character sets later on"
   ]
  },
  {
   "cell_type": "markdown",
   "metadata": {},
   "source": [
    "<pre>quantifiers\n",
    "'+'   = 1 or more\n",
    "'?' =  0 or 1\n",
    "'*' =  0 or more\n",
    "'{n,m}'  = n to m repetitions {,3}, {3,}</pre>\n",
    "\n"
   ]
  },
  {
   "cell_type": "code",
   "execution_count": 10,
   "metadata": {},
   "outputs": [
    {
     "data": {
      "text/plain": [
       "<re.Match object; span=(0, 2), match='ab'>"
      ]
     },
     "execution_count": 10,
     "metadata": {},
     "output_type": "execute_result"
    }
   ],
   "source": [
    "re.search(r'\\w\\w',\"abcdefnc abcd\" )"
   ]
  },
  {
   "cell_type": "code",
   "execution_count": 11,
   "metadata": {},
   "outputs": [
    {
     "data": {
      "text/plain": [
       "'abcdefnc'"
      ]
     },
     "execution_count": 11,
     "metadata": {},
     "output_type": "execute_result"
    }
   ],
   "source": [
    "re.search(r'\\w+',\"abcdefnc abcd\" ).group()  #don't know the numbers of letters"
   ]
  },
  {
   "cell_type": "code",
   "execution_count": 12,
   "metadata": {},
   "outputs": [
    {
     "data": {
      "text/plain": [
       "'abcdefnc abcd'"
      ]
     },
     "execution_count": 12,
     "metadata": {},
     "output_type": "execute_result"
    }
   ],
   "source": [
    "re.search(r'\\w+\\W+\\w+',\"abcdefnc abcd\").group()"
   ]
  },
  {
   "cell_type": "code",
   "execution_count": 13,
   "metadata": {},
   "outputs": [
    {
     "data": {
      "text/plain": [
       "'abcdefnc       abcd'"
      ]
     },
     "execution_count": 13,
     "metadata": {},
     "output_type": "execute_result"
    }
   ],
   "source": [
    "re.search('\\w+\\W+\\w+',\"abcdefnc       abcd\").group()  #added spaces"
   ]
  },
  {
   "cell_type": "code",
   "execution_count": 14,
   "metadata": {},
   "outputs": [
    {
     "data": {
      "text/plain": [
       "'abcdefnabcd'"
      ]
     },
     "execution_count": 14,
     "metadata": {},
     "output_type": "execute_result"
    }
   ],
   "source": [
    "re.search(r'\\w+\\W?\\w+',\"abcdefnabcd\").group()  # ? = 0 or 1 instances"
   ]
  },
  {
   "cell_type": "code",
   "execution_count": 15,
   "metadata": {},
   "outputs": [
    {
     "data": {
      "text/plain": [
       "'abcde fnabcd'"
      ]
     },
     "execution_count": 15,
     "metadata": {},
     "output_type": "execute_result"
    }
   ],
   "source": [
    "re.search(r'\\w+\\W?\\w+',\"abcde fnabcd\").group()"
   ]
  },
  {
   "cell_type": "code",
   "execution_count": 16,
   "metadata": {},
   "outputs": [],
   "source": [
    "re.search(r'\\w+\\W+\\w+', \"abcdefnabcd\")"
   ]
  },
  {
   "cell_type": "code",
   "execution_count": 17,
   "metadata": {},
   "outputs": [
    {
     "data": {
      "text/plain": [
       "<re.Match object; span=(0, 3), match='aaa'>"
      ]
     },
     "execution_count": 17,
     "metadata": {},
     "output_type": "execute_result"
    }
   ],
   "source": [
    "#Pulling out specific amounts\n",
    "re.search(r'\\w{3}', 'aaaaaaaaaaa')   #only 3 \\w characters"
   ]
  },
  {
   "cell_type": "code",
   "execution_count": 18,
   "metadata": {},
   "outputs": [
    {
     "data": {
      "text/plain": [
       "'aaaa'"
      ]
     },
     "execution_count": 18,
     "metadata": {},
     "output_type": "execute_result"
    }
   ],
   "source": [
    "re.search(r'\\w{1,4}', 'aaaaaaaaaaa').group()   #1 is min, 4 is max"
   ]
  },
  {
   "cell_type": "code",
   "execution_count": 19,
   "metadata": {},
   "outputs": [
    {
     "data": {
      "text/plain": [
       "'abcdefnc abcd'"
      ]
     },
     "execution_count": 19,
     "metadata": {},
     "output_type": "execute_result"
    }
   ],
   "source": [
    " \n",
    "re.search(r'\\w{1,10}\\W{0,4}\\w+',\"abcdefnc abcd\").group()#1-10 \\w characters,\n",
    "                                                        #0-4  \\W chracters\n",
    "                                                        # 1+ \\w characters"
   ]
  },
  {
   "cell_type": "code",
   "execution_count": 20,
   "metadata": {},
   "outputs": [
    {
     "data": {
      "text/plain": [
       "'abcdefnc abcd'"
      ]
     },
     "execution_count": 20,
     "metadata": {},
     "output_type": "execute_result"
    }
   ],
   "source": [
    "re.search(r'\\w{1,}\\W{0,}\\w+',\"abcdefnc abcd\").group() #at least 1\n",
    "                                                                #at least 0"
   ]
  },
  {
   "cell_type": "markdown",
   "metadata": {},
   "source": [
    "# Other types of characters sets"
   ]
  },
  {
   "cell_type": "markdown",
   "metadata": {},
   "source": [
    "<pre>\n",
    "'\\d'   =  matches digits [0-9]\n",
    "'\\D'   = matches This matches any non-digit character; ~\\d\n",
    "'\\s'  = matches any whitespace character   #new lines, tabs, spaces etc\n",
    "'\\S' = matches any non-whitespace chracter #~\\s\n",
    "</pre>"
   ]
  },
  {
   "cell_type": "code",
   "execution_count": 21,
   "metadata": {},
   "outputs": [
    {
     "data": {
      "text/plain": [
       "'23'"
      ]
     },
     "execution_count": 21,
     "metadata": {},
     "output_type": "execute_result"
    }
   ],
   "source": [
    "string = '23abced++'\n",
    "re.search('\\d+', string).group()"
   ]
  },
  {
   "cell_type": "code",
   "execution_count": 22,
   "metadata": {},
   "outputs": [
    {
     "data": {
      "text/plain": [
       "'23abced++'"
      ]
     },
     "execution_count": 22,
     "metadata": {},
     "output_type": "execute_result"
    }
   ],
   "source": [
    "string = '23abced++'\n",
    "re.search('\\S+', string).group()  #no spaces"
   ]
  },
  {
   "cell_type": "code",
   "execution_count": 23,
   "metadata": {},
   "outputs": [],
   "source": [
    "string = '''Robots are branching out. A new prototype soft robot takes inspiration from plants by growing to explore its environment.\n",
    "\n",
    "Vines and some fungi extend from their tips to explore their surroundings. \n",
    "Elliot Hawkes of the University of California in Santa Barbara \n",
    "and his colleagues designed a bot that works \n",
    "on similar principles. Its mechanical body \n",
    "sits inside a plastic tube reel that extends \n",
    "through pressurized inflation, a method that some \n",
    "invertebrates like peanut worms (Sipunculus nudus)\n",
    "also use to extend their appendages. The plastic \n",
    "tubing has two compartments, and inflating one \n",
    "side or the other changes the extension direction. \n",
    "A camera sensor at the tip alerts the bot when it’s \n",
    "about to run into something.\n",
    "\n",
    "In the lab, Hawkes and his colleagues \n",
    "programmed the robot to form 3-D structures such \n",
    "as a radio antenna, turn off a valve, navigate a maze, \n",
    "swim through glue, act as a fire extinguisher, squeeze \n",
    "through tight gaps, shimmy through fly paper and slither \n",
    "across a bed of nails. The soft bot can extend up to \n",
    "72 meters, and unlike plants, it can grow at a speed of \n",
    "10 meters per second, the team reports July 19 in Science Robotics. \n",
    "The design could serve as a model for building robots \n",
    "that can traverse constrained environments\n",
    "\n",
    "This isn’t the first robot to take \n",
    "inspiration from plants. One plantlike \n",
    "predecessor was a robot modeled on roots.'''"
   ]
  },
  {
   "cell_type": "code",
   "execution_count": 24,
   "metadata": {},
   "outputs": [
    {
     "data": {
      "text/plain": [
       "'Robots are branching out. A new prototype soft robot takes inspiration from plants by growing to explore its environment.'"
      ]
     },
     "execution_count": 24,
     "metadata": {},
     "output_type": "execute_result"
    }
   ],
   "source": [
    "re.search('.+', string).group()  #no new line"
   ]
  },
  {
   "cell_type": "code",
   "execution_count": 25,
   "metadata": {},
   "outputs": [
    {
     "data": {
      "text/plain": [
       "'Robots are branching out. A new prototype soft robot takes inspiration from plants by growing to explore its environment.\\n\\nVines and some fungi extend from their tips to explore their surroundings. \\nElliot Hawkes of the University of California in Santa Barbara \\nand his colleagues designed a bot that works \\non similar principles. Its mechanical body \\nsits inside a plastic tube reel that extends \\nthrough pressurized inflation, a method that some \\ninvertebrates like peanut worms (Sipunculus nudus)\\nalso use to extend their appendages. The plastic \\ntubing has two compartments, and inflating one \\nside or the other changes the extension direction. \\nA camera sensor at the tip alerts the bot when it’s \\nabout to run into something.\\n\\nIn the lab, Hawkes and his colleagues \\nprogrammed the robot to form 3-D structures such \\nas a radio antenna, turn off a valve, navigate a maze, \\nswim through glue, act as a fire extinguisher, squeeze \\nthrough tight gaps, shimmy through fly paper and slither \\nacross a bed of nails. The soft bot can extend up to \\n72 meters, and unlike plants, it can grow at a speed of \\n10 meters per second, the team reports July 19 in Science Robotics. \\nThe design could serve as a model for building robots \\nthat can traverse constrained environments\\n\\nThis isn’t the first robot to take \\ninspiration from plants. One plantlike \\npredecessor was a robot modeled on roots.'"
      ]
     },
     "execution_count": 25,
     "metadata": {},
     "output_type": "execute_result"
    }
   ],
   "source": [
    "re.search('.+', string, flags = re.DOTALL).group()"
   ]
  },
  {
   "cell_type": "markdown",
   "metadata": {},
   "source": [
    "# Creating your own character sets"
   ]
  },
  {
   "cell_type": "code",
   "execution_count": null,
   "metadata": {},
   "outputs": [],
   "source": [
    "[A-Z]    '-'  is a metacharacter when used in [] (custom character sets)"
   ]
  },
  {
   "cell_type": "code",
   "execution_count": 26,
   "metadata": {},
   "outputs": [],
   "source": [
    "string = 'Hello, There, How, Are, You'"
   ]
  },
  {
   "cell_type": "code",
   "execution_count": 27,
   "metadata": {},
   "outputs": [
    {
     "data": {
      "text/plain": [
       "['H', 'T', 'H', 'A', 'Y']"
      ]
     },
     "execution_count": 27,
     "metadata": {},
     "output_type": "execute_result"
    }
   ],
   "source": [
    "re.findall('[A-Z]', string)  #pulls out all capital letters"
   ]
  },
  {
   "cell_type": "code",
   "execution_count": 28,
   "metadata": {},
   "outputs": [
    {
     "data": {
      "text/plain": [
       "['H', ',', 'T', ',', 'H', ',', 'A', ',', 'Y']"
      ]
     },
     "execution_count": 28,
     "metadata": {},
     "output_type": "execute_result"
    }
   ],
   "source": [
    "re.findall('[A-Z,]', string)  #here we search for any capital letters\n",
    "                                #or a comma"
   ]
  },
  {
   "cell_type": "code",
   "execution_count": 29,
   "metadata": {},
   "outputs": [
    {
     "data": {
      "text/plain": [
       "['H', ',', 'T', ',', 'H', ',', 'A', ',', 'Y', '.', '.', '.']"
      ]
     },
     "execution_count": 29,
     "metadata": {},
     "output_type": "execute_result"
    }
   ],
   "source": [
    "string = 'Hello, There, How, Are, You...'\n",
    "re.findall('[A-Z,.]', string)"
   ]
  },
  {
   "cell_type": "code",
   "execution_count": 30,
   "metadata": {
    "collapsed": true
   },
   "outputs": [
    {
     "data": {
      "text/plain": [
       "['H',\n",
       " 'e',\n",
       " 'l',\n",
       " 'l',\n",
       " 'o',\n",
       " ',',\n",
       " ' ',\n",
       " 'T',\n",
       " 'h',\n",
       " 'e',\n",
       " 'r',\n",
       " 'e',\n",
       " ',',\n",
       " ' ',\n",
       " 'H',\n",
       " 'o',\n",
       " 'w',\n",
       " ',',\n",
       " ' ',\n",
       " 'A',\n",
       " 'r',\n",
       " 'e',\n",
       " ',',\n",
       " ' ',\n",
       " 'Y',\n",
       " 'o',\n",
       " 'u',\n",
       " '.',\n",
       " '.',\n",
       " '.']"
      ]
     },
     "execution_count": 30,
     "metadata": {},
     "output_type": "execute_result"
    }
   ],
   "source": [
    "string = 'Hello, There, How, Are, You...'\n",
    "re.findall('[A-Za-z,\\s.]', string)"
   ]
  },
  {
   "cell_type": "code",
   "execution_count": null,
   "metadata": {},
   "outputs": [],
   "source": []
  }
 ],
 "metadata": {
  "kernelspec": {
   "display_name": "Python 3",
   "language": "python",
   "name": "python3"
  },
  "language_info": {
   "codemirror_mode": {
    "name": "ipython",
    "version": 3
   },
   "file_extension": ".py",
   "mimetype": "text/x-python",
   "name": "python",
   "nbconvert_exporter": "python",
   "pygments_lexer": "ipython3",
   "version": "3.7.4"
  }
 },
 "nbformat": 4,
 "nbformat_minor": 2
}
