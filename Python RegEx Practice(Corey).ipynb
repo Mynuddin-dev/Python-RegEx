{
 "cells": [
  {
   "cell_type": "markdown",
   "metadata": {},
   "source": [
    "# MetaCharacters"
   ]
  },
  {
   "cell_type": "markdown",
   "metadata": {},
   "source": [
    "<pre>\n",
    ".       - Any Character Except New Line\n",
    "\\d      - Digit (0-9)\n",
    "\\D      - Not a Digit (0-9)\n",
    "\\w      - Word Character (a-z, A-Z, 0-9, _)\n",
    "\\W      - Not a Word Character\n",
    "\\s      - Whitespace (space, tab, newline)\n",
    "\\S      - Not Whitespace (space, tab, newline)\n",
    "\n",
    "\\b      - Word Boundary\n",
    "\\B      - Not a Word Boundary\n",
    "^       - Beginning of a String\n",
    "$       - End of a String\n",
    "\n",
    "[]      - Matches Characters in brackets\n",
    "[^ ]    - Matches Characters NOT in brackets\n",
    "|       - Either Or\n",
    "( )     - Group\n",
    "\n",
    "Quantifiers:\n",
    "*       - 0 or More\n",
    "+       - 1 or More\n",
    "?       - 0 or One\n",
    "{3}     - Exact Number\n",
    "{3,4}   - Range of Numbers (Minimum, Maximum)\n",
    "\n",
    "\n",
    "#### Sample Regexs ####\n",
    "\n",
    "[a-zA-Z0-9_.+-]+@[a-zA-Z0-9-]+\\.[a-zA-Z0-9-.]+\n",
    "</pre>"
   ]
  },
  {
   "cell_type": "code",
   "execution_count": 101,
   "metadata": {},
   "outputs": [],
   "source": [
    "import re\n",
    "\n",
    "text_to_search = '''\n",
    "abcdefghijklmnopqurtuvwxyz\n",
    "ABCDEFGHIJKLMNOPQRSTUVWXYZ\n",
    "1234567890\n",
    "\n",
    "Ha HaHa\n",
    "\n",
    "MetaCharacters (Need to be escaped):\n",
    ". ^ $ * + ? { } [ ] \\ | ( )\n",
    "\n",
    "mynuddins.com\n",
    "\n",
    "321-555-4321\n",
    "123.555.1234\n",
    "123*555*1234\n",
    "800-555-1234\n",
    "900-555-1234\n",
    "\n",
    "Mr. Schafer\n",
    "Mr Smith\n",
    "Ms Davis\n",
    "Mrs. Robinson\n",
    "Mr. T\n",
    "\n",
    "cat\n",
    "mat\n",
    "pat\n",
    "bat\n",
    "'''\n",
    "\n"
   ]
  },
  {
   "cell_type": "code",
   "execution_count": 12,
   "metadata": {
    "scrolled": true
   },
   "outputs": [
    {
     "name": "stdout",
     "output_type": "stream",
     "text": [
      "\tTab\n"
     ]
    }
   ],
   "source": [
    "print(\"\\tTab\")"
   ]
  },
  {
   "cell_type": "code",
   "execution_count": 13,
   "metadata": {},
   "outputs": [
    {
     "name": "stdout",
     "output_type": "stream",
     "text": [
      "\\tTab\n"
     ]
    }
   ],
   "source": [
    "print(r\"\\tTab\")"
   ]
  },
  {
   "cell_type": "code",
   "execution_count": 14,
   "metadata": {},
   "outputs": [
    {
     "name": "stdout",
     "output_type": "stream",
     "text": [
      "<re.Match object; span=(0, 5), match='Start'>\n"
     ]
    }
   ],
   "source": [
    "pattern = re.compile(r'start', re.I)\n",
    "\n",
    "matches = pattern.search(sentence)\n",
    "\n",
    "print(matches)"
   ]
  },
  {
   "cell_type": "code",
   "execution_count": 15,
   "metadata": {},
   "outputs": [
    {
     "name": "stdout",
     "output_type": "stream",
     "text": [
      "<re.Match object; span=(1, 4), match='abc'>\n"
     ]
    }
   ],
   "source": [
    "pattern = re.compile(r'abc')\n",
    "\n",
    "matches = pattern.finditer(text_to_search)\n",
    "\n",
    "for match in matches:\n",
    "    print(match)\n",
    "    "
   ]
  },
  {
   "cell_type": "code",
   "execution_count": 16,
   "metadata": {},
   "outputs": [
    {
     "name": "stdout",
     "output_type": "stream",
     "text": [
      "abc\n"
     ]
    }
   ],
   "source": [
    "print(text_to_search[1:4])"
   ]
  },
  {
   "cell_type": "code",
   "execution_count": 17,
   "metadata": {},
   "outputs": [
    {
     "name": "stdout",
     "output_type": "stream",
     "text": [
      "<re.Match object; span=(1, 2), match='a'>\n",
      "<re.Match object; span=(2, 3), match='b'>\n",
      "<re.Match object; span=(3, 4), match='c'>\n",
      "<re.Match object; span=(4, 5), match='d'>\n",
      "<re.Match object; span=(5, 6), match='e'>\n",
      "<re.Match object; span=(6, 7), match='f'>\n",
      "<re.Match object; span=(7, 8), match='g'>\n",
      "<re.Match object; span=(8, 9), match='h'>\n",
      "<re.Match object; span=(9, 10), match='i'>\n",
      "<re.Match object; span=(10, 11), match='j'>\n",
      "<re.Match object; span=(11, 12), match='k'>\n",
      "<re.Match object; span=(12, 13), match='l'>\n",
      "<re.Match object; span=(13, 14), match='m'>\n",
      "<re.Match object; span=(14, 15), match='n'>\n",
      "<re.Match object; span=(15, 16), match='o'>\n",
      "<re.Match object; span=(16, 17), match='p'>\n",
      "<re.Match object; span=(17, 18), match='q'>\n",
      "<re.Match object; span=(18, 19), match='u'>\n",
      "<re.Match object; span=(19, 20), match='r'>\n",
      "<re.Match object; span=(20, 21), match='t'>\n",
      "<re.Match object; span=(21, 22), match='u'>\n",
      "<re.Match object; span=(22, 23), match='v'>\n",
      "<re.Match object; span=(23, 24), match='w'>\n",
      "<re.Match object; span=(24, 25), match='x'>\n",
      "<re.Match object; span=(25, 26), match='y'>\n",
      "<re.Match object; span=(26, 27), match='z'>\n",
      "<re.Match object; span=(28, 29), match='A'>\n",
      "<re.Match object; span=(29, 30), match='B'>\n",
      "<re.Match object; span=(30, 31), match='C'>\n",
      "<re.Match object; span=(31, 32), match='D'>\n",
      "<re.Match object; span=(32, 33), match='E'>\n",
      "<re.Match object; span=(33, 34), match='F'>\n",
      "<re.Match object; span=(34, 35), match='G'>\n",
      "<re.Match object; span=(35, 36), match='H'>\n",
      "<re.Match object; span=(36, 37), match='I'>\n",
      "<re.Match object; span=(37, 38), match='J'>\n",
      "<re.Match object; span=(38, 39), match='K'>\n",
      "<re.Match object; span=(39, 40), match='L'>\n",
      "<re.Match object; span=(40, 41), match='M'>\n",
      "<re.Match object; span=(41, 42), match='N'>\n",
      "<re.Match object; span=(42, 43), match='O'>\n",
      "<re.Match object; span=(43, 44), match='P'>\n",
      "<re.Match object; span=(44, 45), match='Q'>\n",
      "<re.Match object; span=(45, 46), match='R'>\n",
      "<re.Match object; span=(46, 47), match='S'>\n",
      "<re.Match object; span=(47, 48), match='T'>\n",
      "<re.Match object; span=(48, 49), match='U'>\n",
      "<re.Match object; span=(49, 50), match='V'>\n",
      "<re.Match object; span=(50, 51), match='W'>\n",
      "<re.Match object; span=(51, 52), match='X'>\n",
      "<re.Match object; span=(52, 53), match='Y'>\n",
      "<re.Match object; span=(53, 54), match='Z'>\n",
      "<re.Match object; span=(55, 56), match='1'>\n",
      "<re.Match object; span=(56, 57), match='2'>\n",
      "<re.Match object; span=(57, 58), match='3'>\n",
      "<re.Match object; span=(58, 59), match='4'>\n",
      "<re.Match object; span=(59, 60), match='5'>\n",
      "<re.Match object; span=(60, 61), match='6'>\n",
      "<re.Match object; span=(61, 62), match='7'>\n",
      "<re.Match object; span=(62, 63), match='8'>\n",
      "<re.Match object; span=(63, 64), match='9'>\n",
      "<re.Match object; span=(64, 65), match='0'>\n",
      "<re.Match object; span=(67, 68), match='H'>\n",
      "<re.Match object; span=(68, 69), match='a'>\n",
      "<re.Match object; span=(69, 70), match=' '>\n",
      "<re.Match object; span=(70, 71), match='H'>\n",
      "<re.Match object; span=(71, 72), match='a'>\n",
      "<re.Match object; span=(72, 73), match='H'>\n",
      "<re.Match object; span=(73, 74), match='a'>\n",
      "<re.Match object; span=(76, 77), match='M'>\n",
      "<re.Match object; span=(77, 78), match='e'>\n",
      "<re.Match object; span=(78, 79), match='t'>\n",
      "<re.Match object; span=(79, 80), match='a'>\n",
      "<re.Match object; span=(80, 81), match='C'>\n",
      "<re.Match object; span=(81, 82), match='h'>\n",
      "<re.Match object; span=(82, 83), match='a'>\n",
      "<re.Match object; span=(83, 84), match='r'>\n",
      "<re.Match object; span=(84, 85), match='a'>\n",
      "<re.Match object; span=(85, 86), match='c'>\n",
      "<re.Match object; span=(86, 87), match='t'>\n",
      "<re.Match object; span=(87, 88), match='e'>\n",
      "<re.Match object; span=(88, 89), match='r'>\n",
      "<re.Match object; span=(89, 90), match='s'>\n",
      "<re.Match object; span=(90, 91), match=' '>\n",
      "<re.Match object; span=(91, 92), match='('>\n",
      "<re.Match object; span=(92, 93), match='N'>\n",
      "<re.Match object; span=(93, 94), match='e'>\n",
      "<re.Match object; span=(94, 95), match='e'>\n",
      "<re.Match object; span=(95, 96), match='d'>\n",
      "<re.Match object; span=(96, 97), match=' '>\n",
      "<re.Match object; span=(97, 98), match='t'>\n",
      "<re.Match object; span=(98, 99), match='o'>\n",
      "<re.Match object; span=(99, 100), match=' '>\n",
      "<re.Match object; span=(100, 101), match='b'>\n",
      "<re.Match object; span=(101, 102), match='e'>\n",
      "<re.Match object; span=(102, 103), match=' '>\n",
      "<re.Match object; span=(103, 104), match='e'>\n",
      "<re.Match object; span=(104, 105), match='s'>\n",
      "<re.Match object; span=(105, 106), match='c'>\n",
      "<re.Match object; span=(106, 107), match='a'>\n",
      "<re.Match object; span=(107, 108), match='p'>\n",
      "<re.Match object; span=(108, 109), match='e'>\n",
      "<re.Match object; span=(109, 110), match='d'>\n",
      "<re.Match object; span=(110, 111), match=')'>\n",
      "<re.Match object; span=(111, 112), match=':'>\n",
      "<re.Match object; span=(113, 114), match='.'>\n",
      "<re.Match object; span=(114, 115), match=' '>\n",
      "<re.Match object; span=(115, 116), match='^'>\n",
      "<re.Match object; span=(116, 117), match=' '>\n",
      "<re.Match object; span=(117, 118), match='$'>\n",
      "<re.Match object; span=(118, 119), match=' '>\n",
      "<re.Match object; span=(119, 120), match='*'>\n",
      "<re.Match object; span=(120, 121), match=' '>\n",
      "<re.Match object; span=(121, 122), match='+'>\n",
      "<re.Match object; span=(122, 123), match=' '>\n",
      "<re.Match object; span=(123, 124), match='?'>\n",
      "<re.Match object; span=(124, 125), match=' '>\n",
      "<re.Match object; span=(125, 126), match='{'>\n",
      "<re.Match object; span=(126, 127), match=' '>\n",
      "<re.Match object; span=(127, 128), match='}'>\n",
      "<re.Match object; span=(128, 129), match=' '>\n",
      "<re.Match object; span=(129, 130), match='['>\n",
      "<re.Match object; span=(130, 131), match=' '>\n",
      "<re.Match object; span=(131, 132), match=']'>\n",
      "<re.Match object; span=(132, 133), match=' '>\n",
      "<re.Match object; span=(133, 134), match='\\\\'>\n",
      "<re.Match object; span=(134, 135), match=' '>\n",
      "<re.Match object; span=(135, 136), match='|'>\n",
      "<re.Match object; span=(136, 137), match=' '>\n",
      "<re.Match object; span=(137, 138), match='('>\n",
      "<re.Match object; span=(138, 139), match=' '>\n",
      "<re.Match object; span=(139, 140), match=')'>\n",
      "<re.Match object; span=(142, 143), match='m'>\n",
      "<re.Match object; span=(143, 144), match='y'>\n",
      "<re.Match object; span=(144, 145), match='n'>\n",
      "<re.Match object; span=(145, 146), match='u'>\n",
      "<re.Match object; span=(146, 147), match='d'>\n",
      "<re.Match object; span=(147, 148), match='d'>\n",
      "<re.Match object; span=(148, 149), match='i'>\n",
      "<re.Match object; span=(149, 150), match='n'>\n",
      "<re.Match object; span=(150, 151), match='s'>\n",
      "<re.Match object; span=(151, 152), match='.'>\n",
      "<re.Match object; span=(152, 153), match='c'>\n",
      "<re.Match object; span=(153, 154), match='o'>\n",
      "<re.Match object; span=(154, 155), match='m'>\n",
      "<re.Match object; span=(157, 158), match='3'>\n",
      "<re.Match object; span=(158, 159), match='2'>\n",
      "<re.Match object; span=(159, 160), match='1'>\n",
      "<re.Match object; span=(160, 161), match='-'>\n",
      "<re.Match object; span=(161, 162), match='5'>\n",
      "<re.Match object; span=(162, 163), match='5'>\n",
      "<re.Match object; span=(163, 164), match='5'>\n",
      "<re.Match object; span=(164, 165), match='-'>\n",
      "<re.Match object; span=(165, 166), match='4'>\n",
      "<re.Match object; span=(166, 167), match='3'>\n",
      "<re.Match object; span=(167, 168), match='2'>\n",
      "<re.Match object; span=(168, 169), match='1'>\n",
      "<re.Match object; span=(170, 171), match='1'>\n",
      "<re.Match object; span=(171, 172), match='2'>\n",
      "<re.Match object; span=(172, 173), match='3'>\n",
      "<re.Match object; span=(173, 174), match='.'>\n",
      "<re.Match object; span=(174, 175), match='5'>\n",
      "<re.Match object; span=(175, 176), match='5'>\n",
      "<re.Match object; span=(176, 177), match='5'>\n",
      "<re.Match object; span=(177, 178), match='.'>\n",
      "<re.Match object; span=(178, 179), match='1'>\n",
      "<re.Match object; span=(179, 180), match='2'>\n",
      "<re.Match object; span=(180, 181), match='3'>\n",
      "<re.Match object; span=(181, 182), match='4'>\n",
      "<re.Match object; span=(183, 184), match='1'>\n",
      "<re.Match object; span=(184, 185), match='2'>\n",
      "<re.Match object; span=(185, 186), match='3'>\n",
      "<re.Match object; span=(186, 187), match='*'>\n",
      "<re.Match object; span=(187, 188), match='5'>\n",
      "<re.Match object; span=(188, 189), match='5'>\n",
      "<re.Match object; span=(189, 190), match='5'>\n",
      "<re.Match object; span=(190, 191), match='*'>\n",
      "<re.Match object; span=(191, 192), match='1'>\n",
      "<re.Match object; span=(192, 193), match='2'>\n",
      "<re.Match object; span=(193, 194), match='3'>\n",
      "<re.Match object; span=(194, 195), match='4'>\n",
      "<re.Match object; span=(196, 197), match='8'>\n",
      "<re.Match object; span=(197, 198), match='0'>\n",
      "<re.Match object; span=(198, 199), match='0'>\n",
      "<re.Match object; span=(199, 200), match='-'>\n",
      "<re.Match object; span=(200, 201), match='5'>\n",
      "<re.Match object; span=(201, 202), match='5'>\n",
      "<re.Match object; span=(202, 203), match='5'>\n",
      "<re.Match object; span=(203, 204), match='-'>\n",
      "<re.Match object; span=(204, 205), match='1'>\n",
      "<re.Match object; span=(205, 206), match='2'>\n",
      "<re.Match object; span=(206, 207), match='3'>\n",
      "<re.Match object; span=(207, 208), match='4'>\n",
      "<re.Match object; span=(209, 210), match='9'>\n",
      "<re.Match object; span=(210, 211), match='0'>\n",
      "<re.Match object; span=(211, 212), match='0'>\n",
      "<re.Match object; span=(212, 213), match='-'>\n",
      "<re.Match object; span=(213, 214), match='5'>\n",
      "<re.Match object; span=(214, 215), match='5'>\n",
      "<re.Match object; span=(215, 216), match='5'>\n",
      "<re.Match object; span=(216, 217), match='-'>\n",
      "<re.Match object; span=(217, 218), match='1'>\n",
      "<re.Match object; span=(218, 219), match='2'>\n",
      "<re.Match object; span=(219, 220), match='3'>\n",
      "<re.Match object; span=(220, 221), match='4'>\n",
      "<re.Match object; span=(223, 224), match='M'>\n",
      "<re.Match object; span=(224, 225), match='r'>\n",
      "<re.Match object; span=(225, 226), match='.'>\n",
      "<re.Match object; span=(226, 227), match=' '>\n",
      "<re.Match object; span=(227, 228), match='S'>\n",
      "<re.Match object; span=(228, 229), match='c'>\n",
      "<re.Match object; span=(229, 230), match='h'>\n",
      "<re.Match object; span=(230, 231), match='a'>\n",
      "<re.Match object; span=(231, 232), match='f'>\n",
      "<re.Match object; span=(232, 233), match='e'>\n",
      "<re.Match object; span=(233, 234), match='r'>\n",
      "<re.Match object; span=(235, 236), match='M'>\n",
      "<re.Match object; span=(236, 237), match='r'>\n",
      "<re.Match object; span=(237, 238), match=' '>\n",
      "<re.Match object; span=(238, 239), match='S'>\n",
      "<re.Match object; span=(239, 240), match='m'>\n",
      "<re.Match object; span=(240, 241), match='i'>\n",
      "<re.Match object; span=(241, 242), match='t'>\n",
      "<re.Match object; span=(242, 243), match='h'>\n",
      "<re.Match object; span=(244, 245), match='M'>\n",
      "<re.Match object; span=(245, 246), match='s'>\n",
      "<re.Match object; span=(246, 247), match=' '>\n",
      "<re.Match object; span=(247, 248), match='D'>\n",
      "<re.Match object; span=(248, 249), match='a'>\n",
      "<re.Match object; span=(249, 250), match='v'>\n",
      "<re.Match object; span=(250, 251), match='i'>\n",
      "<re.Match object; span=(251, 252), match='s'>\n",
      "<re.Match object; span=(253, 254), match='M'>\n",
      "<re.Match object; span=(254, 255), match='r'>\n",
      "<re.Match object; span=(255, 256), match='s'>\n",
      "<re.Match object; span=(256, 257), match='.'>\n",
      "<re.Match object; span=(257, 258), match=' '>\n",
      "<re.Match object; span=(258, 259), match='R'>\n",
      "<re.Match object; span=(259, 260), match='o'>\n",
      "<re.Match object; span=(260, 261), match='b'>\n",
      "<re.Match object; span=(261, 262), match='i'>\n",
      "<re.Match object; span=(262, 263), match='n'>\n",
      "<re.Match object; span=(263, 264), match='s'>\n",
      "<re.Match object; span=(264, 265), match='o'>\n",
      "<re.Match object; span=(265, 266), match='n'>\n",
      "<re.Match object; span=(267, 268), match='M'>\n",
      "<re.Match object; span=(268, 269), match='r'>\n",
      "<re.Match object; span=(269, 270), match='.'>\n",
      "<re.Match object; span=(270, 271), match=' '>\n",
      "<re.Match object; span=(271, 272), match='T'>\n"
     ]
    }
   ],
   "source": [
    "pattern = re.compile(r'.')\n",
    "\n",
    "matches = pattern.finditer(text_to_search)\n",
    "\n",
    "for match in matches:\n",
    "    print(match)\n",
    "    "
   ]
  },
  {
   "cell_type": "code",
   "execution_count": 18,
   "metadata": {},
   "outputs": [
    {
     "name": "stdout",
     "output_type": "stream",
     "text": [
      "<re.Match object; span=(113, 114), match='.'>\n",
      "<re.Match object; span=(151, 152), match='.'>\n",
      "<re.Match object; span=(173, 174), match='.'>\n",
      "<re.Match object; span=(177, 178), match='.'>\n",
      "<re.Match object; span=(225, 226), match='.'>\n",
      "<re.Match object; span=(256, 257), match='.'>\n",
      "<re.Match object; span=(269, 270), match='.'>\n"
     ]
    }
   ],
   "source": [
    "pattern = re.compile(r'\\.')\n",
    "\n",
    "matches = pattern.finditer(text_to_search)\n",
    "\n",
    "for match in matches:\n",
    "    print(match)\n",
    "    "
   ]
  },
  {
   "cell_type": "code",
   "execution_count": 19,
   "metadata": {},
   "outputs": [
    {
     "name": "stdout",
     "output_type": "stream",
     "text": [
      "<re.Match object; span=(142, 155), match='mynuddins.com'>\n"
     ]
    }
   ],
   "source": [
    "pattern = re.compile(r'mynuddins\\.com')\n",
    "\n",
    "matches = pattern.finditer(text_to_search)\n",
    "\n",
    "for match in matches:\n",
    "    print(match)\n",
    "    "
   ]
  },
  {
   "cell_type": "code",
   "execution_count": 20,
   "metadata": {
    "collapsed": true
   },
   "outputs": [
    {
     "name": "stdout",
     "output_type": "stream",
     "text": [
      "<re.Match object; span=(55, 56), match='1'>\n",
      "<re.Match object; span=(56, 57), match='2'>\n",
      "<re.Match object; span=(57, 58), match='3'>\n",
      "<re.Match object; span=(58, 59), match='4'>\n",
      "<re.Match object; span=(59, 60), match='5'>\n",
      "<re.Match object; span=(60, 61), match='6'>\n",
      "<re.Match object; span=(61, 62), match='7'>\n",
      "<re.Match object; span=(62, 63), match='8'>\n",
      "<re.Match object; span=(63, 64), match='9'>\n",
      "<re.Match object; span=(64, 65), match='0'>\n",
      "<re.Match object; span=(157, 158), match='3'>\n",
      "<re.Match object; span=(158, 159), match='2'>\n",
      "<re.Match object; span=(159, 160), match='1'>\n",
      "<re.Match object; span=(161, 162), match='5'>\n",
      "<re.Match object; span=(162, 163), match='5'>\n",
      "<re.Match object; span=(163, 164), match='5'>\n",
      "<re.Match object; span=(165, 166), match='4'>\n",
      "<re.Match object; span=(166, 167), match='3'>\n",
      "<re.Match object; span=(167, 168), match='2'>\n",
      "<re.Match object; span=(168, 169), match='1'>\n",
      "<re.Match object; span=(170, 171), match='1'>\n",
      "<re.Match object; span=(171, 172), match='2'>\n",
      "<re.Match object; span=(172, 173), match='3'>\n",
      "<re.Match object; span=(174, 175), match='5'>\n",
      "<re.Match object; span=(175, 176), match='5'>\n",
      "<re.Match object; span=(176, 177), match='5'>\n",
      "<re.Match object; span=(178, 179), match='1'>\n",
      "<re.Match object; span=(179, 180), match='2'>\n",
      "<re.Match object; span=(180, 181), match='3'>\n",
      "<re.Match object; span=(181, 182), match='4'>\n",
      "<re.Match object; span=(183, 184), match='1'>\n",
      "<re.Match object; span=(184, 185), match='2'>\n",
      "<re.Match object; span=(185, 186), match='3'>\n",
      "<re.Match object; span=(187, 188), match='5'>\n",
      "<re.Match object; span=(188, 189), match='5'>\n",
      "<re.Match object; span=(189, 190), match='5'>\n",
      "<re.Match object; span=(191, 192), match='1'>\n",
      "<re.Match object; span=(192, 193), match='2'>\n",
      "<re.Match object; span=(193, 194), match='3'>\n",
      "<re.Match object; span=(194, 195), match='4'>\n",
      "<re.Match object; span=(196, 197), match='8'>\n",
      "<re.Match object; span=(197, 198), match='0'>\n",
      "<re.Match object; span=(198, 199), match='0'>\n",
      "<re.Match object; span=(200, 201), match='5'>\n",
      "<re.Match object; span=(201, 202), match='5'>\n",
      "<re.Match object; span=(202, 203), match='5'>\n",
      "<re.Match object; span=(204, 205), match='1'>\n",
      "<re.Match object; span=(205, 206), match='2'>\n",
      "<re.Match object; span=(206, 207), match='3'>\n",
      "<re.Match object; span=(207, 208), match='4'>\n",
      "<re.Match object; span=(209, 210), match='9'>\n",
      "<re.Match object; span=(210, 211), match='0'>\n",
      "<re.Match object; span=(211, 212), match='0'>\n",
      "<re.Match object; span=(213, 214), match='5'>\n",
      "<re.Match object; span=(214, 215), match='5'>\n",
      "<re.Match object; span=(215, 216), match='5'>\n",
      "<re.Match object; span=(217, 218), match='1'>\n",
      "<re.Match object; span=(218, 219), match='2'>\n",
      "<re.Match object; span=(219, 220), match='3'>\n",
      "<re.Match object; span=(220, 221), match='4'>\n"
     ]
    }
   ],
   "source": [
    "pattern = re.compile(r'\\d')\n",
    "\n",
    "matches = pattern.finditer(text_to_search)\n",
    "\n",
    "for match in matches:\n",
    "    print(match)\n",
    "    "
   ]
  },
  {
   "cell_type": "code",
   "execution_count": 21,
   "metadata": {
    "collapsed": true
   },
   "outputs": [
    {
     "name": "stdout",
     "output_type": "stream",
     "text": [
      "<re.Match object; span=(0, 1), match='\\n'>\n",
      "<re.Match object; span=(1, 2), match='a'>\n",
      "<re.Match object; span=(2, 3), match='b'>\n",
      "<re.Match object; span=(3, 4), match='c'>\n",
      "<re.Match object; span=(4, 5), match='d'>\n",
      "<re.Match object; span=(5, 6), match='e'>\n",
      "<re.Match object; span=(6, 7), match='f'>\n",
      "<re.Match object; span=(7, 8), match='g'>\n",
      "<re.Match object; span=(8, 9), match='h'>\n",
      "<re.Match object; span=(9, 10), match='i'>\n",
      "<re.Match object; span=(10, 11), match='j'>\n",
      "<re.Match object; span=(11, 12), match='k'>\n",
      "<re.Match object; span=(12, 13), match='l'>\n",
      "<re.Match object; span=(13, 14), match='m'>\n",
      "<re.Match object; span=(14, 15), match='n'>\n",
      "<re.Match object; span=(15, 16), match='o'>\n",
      "<re.Match object; span=(16, 17), match='p'>\n",
      "<re.Match object; span=(17, 18), match='q'>\n",
      "<re.Match object; span=(18, 19), match='u'>\n",
      "<re.Match object; span=(19, 20), match='r'>\n",
      "<re.Match object; span=(20, 21), match='t'>\n",
      "<re.Match object; span=(21, 22), match='u'>\n",
      "<re.Match object; span=(22, 23), match='v'>\n",
      "<re.Match object; span=(23, 24), match='w'>\n",
      "<re.Match object; span=(24, 25), match='x'>\n",
      "<re.Match object; span=(25, 26), match='y'>\n",
      "<re.Match object; span=(26, 27), match='z'>\n",
      "<re.Match object; span=(27, 28), match='\\n'>\n",
      "<re.Match object; span=(28, 29), match='A'>\n",
      "<re.Match object; span=(29, 30), match='B'>\n",
      "<re.Match object; span=(30, 31), match='C'>\n",
      "<re.Match object; span=(31, 32), match='D'>\n",
      "<re.Match object; span=(32, 33), match='E'>\n",
      "<re.Match object; span=(33, 34), match='F'>\n",
      "<re.Match object; span=(34, 35), match='G'>\n",
      "<re.Match object; span=(35, 36), match='H'>\n",
      "<re.Match object; span=(36, 37), match='I'>\n",
      "<re.Match object; span=(37, 38), match='J'>\n",
      "<re.Match object; span=(38, 39), match='K'>\n",
      "<re.Match object; span=(39, 40), match='L'>\n",
      "<re.Match object; span=(40, 41), match='M'>\n",
      "<re.Match object; span=(41, 42), match='N'>\n",
      "<re.Match object; span=(42, 43), match='O'>\n",
      "<re.Match object; span=(43, 44), match='P'>\n",
      "<re.Match object; span=(44, 45), match='Q'>\n",
      "<re.Match object; span=(45, 46), match='R'>\n",
      "<re.Match object; span=(46, 47), match='S'>\n",
      "<re.Match object; span=(47, 48), match='T'>\n",
      "<re.Match object; span=(48, 49), match='U'>\n",
      "<re.Match object; span=(49, 50), match='V'>\n",
      "<re.Match object; span=(50, 51), match='W'>\n",
      "<re.Match object; span=(51, 52), match='X'>\n",
      "<re.Match object; span=(52, 53), match='Y'>\n",
      "<re.Match object; span=(53, 54), match='Z'>\n",
      "<re.Match object; span=(54, 55), match='\\n'>\n",
      "<re.Match object; span=(65, 66), match='\\n'>\n",
      "<re.Match object; span=(66, 67), match='\\n'>\n",
      "<re.Match object; span=(67, 68), match='H'>\n",
      "<re.Match object; span=(68, 69), match='a'>\n",
      "<re.Match object; span=(69, 70), match=' '>\n",
      "<re.Match object; span=(70, 71), match='H'>\n",
      "<re.Match object; span=(71, 72), match='a'>\n",
      "<re.Match object; span=(72, 73), match='H'>\n",
      "<re.Match object; span=(73, 74), match='a'>\n",
      "<re.Match object; span=(74, 75), match='\\n'>\n",
      "<re.Match object; span=(75, 76), match='\\n'>\n",
      "<re.Match object; span=(76, 77), match='M'>\n",
      "<re.Match object; span=(77, 78), match='e'>\n",
      "<re.Match object; span=(78, 79), match='t'>\n",
      "<re.Match object; span=(79, 80), match='a'>\n",
      "<re.Match object; span=(80, 81), match='C'>\n",
      "<re.Match object; span=(81, 82), match='h'>\n",
      "<re.Match object; span=(82, 83), match='a'>\n",
      "<re.Match object; span=(83, 84), match='r'>\n",
      "<re.Match object; span=(84, 85), match='a'>\n",
      "<re.Match object; span=(85, 86), match='c'>\n",
      "<re.Match object; span=(86, 87), match='t'>\n",
      "<re.Match object; span=(87, 88), match='e'>\n",
      "<re.Match object; span=(88, 89), match='r'>\n",
      "<re.Match object; span=(89, 90), match='s'>\n",
      "<re.Match object; span=(90, 91), match=' '>\n",
      "<re.Match object; span=(91, 92), match='('>\n",
      "<re.Match object; span=(92, 93), match='N'>\n",
      "<re.Match object; span=(93, 94), match='e'>\n",
      "<re.Match object; span=(94, 95), match='e'>\n",
      "<re.Match object; span=(95, 96), match='d'>\n",
      "<re.Match object; span=(96, 97), match=' '>\n",
      "<re.Match object; span=(97, 98), match='t'>\n",
      "<re.Match object; span=(98, 99), match='o'>\n",
      "<re.Match object; span=(99, 100), match=' '>\n",
      "<re.Match object; span=(100, 101), match='b'>\n",
      "<re.Match object; span=(101, 102), match='e'>\n",
      "<re.Match object; span=(102, 103), match=' '>\n",
      "<re.Match object; span=(103, 104), match='e'>\n",
      "<re.Match object; span=(104, 105), match='s'>\n",
      "<re.Match object; span=(105, 106), match='c'>\n",
      "<re.Match object; span=(106, 107), match='a'>\n",
      "<re.Match object; span=(107, 108), match='p'>\n",
      "<re.Match object; span=(108, 109), match='e'>\n",
      "<re.Match object; span=(109, 110), match='d'>\n",
      "<re.Match object; span=(110, 111), match=')'>\n",
      "<re.Match object; span=(111, 112), match=':'>\n",
      "<re.Match object; span=(112, 113), match='\\n'>\n",
      "<re.Match object; span=(113, 114), match='.'>\n",
      "<re.Match object; span=(114, 115), match=' '>\n",
      "<re.Match object; span=(115, 116), match='^'>\n",
      "<re.Match object; span=(116, 117), match=' '>\n",
      "<re.Match object; span=(117, 118), match='$'>\n",
      "<re.Match object; span=(118, 119), match=' '>\n",
      "<re.Match object; span=(119, 120), match='*'>\n",
      "<re.Match object; span=(120, 121), match=' '>\n",
      "<re.Match object; span=(121, 122), match='+'>\n",
      "<re.Match object; span=(122, 123), match=' '>\n",
      "<re.Match object; span=(123, 124), match='?'>\n",
      "<re.Match object; span=(124, 125), match=' '>\n",
      "<re.Match object; span=(125, 126), match='{'>\n",
      "<re.Match object; span=(126, 127), match=' '>\n",
      "<re.Match object; span=(127, 128), match='}'>\n",
      "<re.Match object; span=(128, 129), match=' '>\n",
      "<re.Match object; span=(129, 130), match='['>\n",
      "<re.Match object; span=(130, 131), match=' '>\n",
      "<re.Match object; span=(131, 132), match=']'>\n",
      "<re.Match object; span=(132, 133), match=' '>\n",
      "<re.Match object; span=(133, 134), match='\\\\'>\n",
      "<re.Match object; span=(134, 135), match=' '>\n",
      "<re.Match object; span=(135, 136), match='|'>\n",
      "<re.Match object; span=(136, 137), match=' '>\n",
      "<re.Match object; span=(137, 138), match='('>\n",
      "<re.Match object; span=(138, 139), match=' '>\n",
      "<re.Match object; span=(139, 140), match=')'>\n",
      "<re.Match object; span=(140, 141), match='\\n'>\n",
      "<re.Match object; span=(141, 142), match='\\n'>\n",
      "<re.Match object; span=(142, 143), match='m'>\n",
      "<re.Match object; span=(143, 144), match='y'>\n",
      "<re.Match object; span=(144, 145), match='n'>\n",
      "<re.Match object; span=(145, 146), match='u'>\n",
      "<re.Match object; span=(146, 147), match='d'>\n",
      "<re.Match object; span=(147, 148), match='d'>\n",
      "<re.Match object; span=(148, 149), match='i'>\n",
      "<re.Match object; span=(149, 150), match='n'>\n",
      "<re.Match object; span=(150, 151), match='s'>\n",
      "<re.Match object; span=(151, 152), match='.'>\n",
      "<re.Match object; span=(152, 153), match='c'>\n",
      "<re.Match object; span=(153, 154), match='o'>\n",
      "<re.Match object; span=(154, 155), match='m'>\n",
      "<re.Match object; span=(155, 156), match='\\n'>\n",
      "<re.Match object; span=(156, 157), match='\\n'>\n",
      "<re.Match object; span=(160, 161), match='-'>\n",
      "<re.Match object; span=(164, 165), match='-'>\n",
      "<re.Match object; span=(169, 170), match='\\n'>\n",
      "<re.Match object; span=(173, 174), match='.'>\n",
      "<re.Match object; span=(177, 178), match='.'>\n",
      "<re.Match object; span=(182, 183), match='\\n'>\n",
      "<re.Match object; span=(186, 187), match='*'>\n",
      "<re.Match object; span=(190, 191), match='*'>\n",
      "<re.Match object; span=(195, 196), match='\\n'>\n",
      "<re.Match object; span=(199, 200), match='-'>\n",
      "<re.Match object; span=(203, 204), match='-'>\n",
      "<re.Match object; span=(208, 209), match='\\n'>\n",
      "<re.Match object; span=(212, 213), match='-'>\n",
      "<re.Match object; span=(216, 217), match='-'>\n",
      "<re.Match object; span=(221, 222), match='\\n'>\n",
      "<re.Match object; span=(222, 223), match='\\n'>\n",
      "<re.Match object; span=(223, 224), match='M'>\n",
      "<re.Match object; span=(224, 225), match='r'>\n",
      "<re.Match object; span=(225, 226), match='.'>\n",
      "<re.Match object; span=(226, 227), match=' '>\n",
      "<re.Match object; span=(227, 228), match='S'>\n",
      "<re.Match object; span=(228, 229), match='c'>\n",
      "<re.Match object; span=(229, 230), match='h'>\n",
      "<re.Match object; span=(230, 231), match='a'>\n",
      "<re.Match object; span=(231, 232), match='f'>\n",
      "<re.Match object; span=(232, 233), match='e'>\n",
      "<re.Match object; span=(233, 234), match='r'>\n",
      "<re.Match object; span=(234, 235), match='\\n'>\n",
      "<re.Match object; span=(235, 236), match='M'>\n",
      "<re.Match object; span=(236, 237), match='r'>\n",
      "<re.Match object; span=(237, 238), match=' '>\n",
      "<re.Match object; span=(238, 239), match='S'>\n",
      "<re.Match object; span=(239, 240), match='m'>\n",
      "<re.Match object; span=(240, 241), match='i'>\n",
      "<re.Match object; span=(241, 242), match='t'>\n",
      "<re.Match object; span=(242, 243), match='h'>\n",
      "<re.Match object; span=(243, 244), match='\\n'>\n",
      "<re.Match object; span=(244, 245), match='M'>\n",
      "<re.Match object; span=(245, 246), match='s'>\n",
      "<re.Match object; span=(246, 247), match=' '>\n",
      "<re.Match object; span=(247, 248), match='D'>\n",
      "<re.Match object; span=(248, 249), match='a'>\n",
      "<re.Match object; span=(249, 250), match='v'>\n",
      "<re.Match object; span=(250, 251), match='i'>\n",
      "<re.Match object; span=(251, 252), match='s'>\n",
      "<re.Match object; span=(252, 253), match='\\n'>\n",
      "<re.Match object; span=(253, 254), match='M'>\n",
      "<re.Match object; span=(254, 255), match='r'>\n",
      "<re.Match object; span=(255, 256), match='s'>\n",
      "<re.Match object; span=(256, 257), match='.'>\n",
      "<re.Match object; span=(257, 258), match=' '>\n",
      "<re.Match object; span=(258, 259), match='R'>\n",
      "<re.Match object; span=(259, 260), match='o'>\n",
      "<re.Match object; span=(260, 261), match='b'>\n",
      "<re.Match object; span=(261, 262), match='i'>\n",
      "<re.Match object; span=(262, 263), match='n'>\n",
      "<re.Match object; span=(263, 264), match='s'>\n",
      "<re.Match object; span=(264, 265), match='o'>\n",
      "<re.Match object; span=(265, 266), match='n'>\n",
      "<re.Match object; span=(266, 267), match='\\n'>\n",
      "<re.Match object; span=(267, 268), match='M'>\n",
      "<re.Match object; span=(268, 269), match='r'>\n",
      "<re.Match object; span=(269, 270), match='.'>\n",
      "<re.Match object; span=(270, 271), match=' '>\n",
      "<re.Match object; span=(271, 272), match='T'>\n",
      "<re.Match object; span=(272, 273), match='\\n'>\n"
     ]
    }
   ],
   "source": [
    "pattern = re.compile(r'\\D')\n",
    "\n",
    "matches = pattern.finditer(text_to_search)\n",
    "\n",
    "for match in matches:\n",
    "    print(match)\n",
    "    "
   ]
  },
  {
   "cell_type": "code",
   "execution_count": 22,
   "metadata": {
    "collapsed": true
   },
   "outputs": [
    {
     "name": "stdout",
     "output_type": "stream",
     "text": [
      "<re.Match object; span=(1, 2), match='a'>\n",
      "<re.Match object; span=(2, 3), match='b'>\n",
      "<re.Match object; span=(3, 4), match='c'>\n",
      "<re.Match object; span=(4, 5), match='d'>\n",
      "<re.Match object; span=(5, 6), match='e'>\n",
      "<re.Match object; span=(6, 7), match='f'>\n",
      "<re.Match object; span=(7, 8), match='g'>\n",
      "<re.Match object; span=(8, 9), match='h'>\n",
      "<re.Match object; span=(9, 10), match='i'>\n",
      "<re.Match object; span=(10, 11), match='j'>\n",
      "<re.Match object; span=(11, 12), match='k'>\n",
      "<re.Match object; span=(12, 13), match='l'>\n",
      "<re.Match object; span=(13, 14), match='m'>\n",
      "<re.Match object; span=(14, 15), match='n'>\n",
      "<re.Match object; span=(15, 16), match='o'>\n",
      "<re.Match object; span=(16, 17), match='p'>\n",
      "<re.Match object; span=(17, 18), match='q'>\n",
      "<re.Match object; span=(18, 19), match='u'>\n",
      "<re.Match object; span=(19, 20), match='r'>\n",
      "<re.Match object; span=(20, 21), match='t'>\n",
      "<re.Match object; span=(21, 22), match='u'>\n",
      "<re.Match object; span=(22, 23), match='v'>\n",
      "<re.Match object; span=(23, 24), match='w'>\n",
      "<re.Match object; span=(24, 25), match='x'>\n",
      "<re.Match object; span=(25, 26), match='y'>\n",
      "<re.Match object; span=(26, 27), match='z'>\n",
      "<re.Match object; span=(28, 29), match='A'>\n",
      "<re.Match object; span=(29, 30), match='B'>\n",
      "<re.Match object; span=(30, 31), match='C'>\n",
      "<re.Match object; span=(31, 32), match='D'>\n",
      "<re.Match object; span=(32, 33), match='E'>\n",
      "<re.Match object; span=(33, 34), match='F'>\n",
      "<re.Match object; span=(34, 35), match='G'>\n",
      "<re.Match object; span=(35, 36), match='H'>\n",
      "<re.Match object; span=(36, 37), match='I'>\n",
      "<re.Match object; span=(37, 38), match='J'>\n",
      "<re.Match object; span=(38, 39), match='K'>\n",
      "<re.Match object; span=(39, 40), match='L'>\n",
      "<re.Match object; span=(40, 41), match='M'>\n",
      "<re.Match object; span=(41, 42), match='N'>\n",
      "<re.Match object; span=(42, 43), match='O'>\n",
      "<re.Match object; span=(43, 44), match='P'>\n",
      "<re.Match object; span=(44, 45), match='Q'>\n",
      "<re.Match object; span=(45, 46), match='R'>\n",
      "<re.Match object; span=(46, 47), match='S'>\n",
      "<re.Match object; span=(47, 48), match='T'>\n",
      "<re.Match object; span=(48, 49), match='U'>\n",
      "<re.Match object; span=(49, 50), match='V'>\n",
      "<re.Match object; span=(50, 51), match='W'>\n",
      "<re.Match object; span=(51, 52), match='X'>\n",
      "<re.Match object; span=(52, 53), match='Y'>\n",
      "<re.Match object; span=(53, 54), match='Z'>\n",
      "<re.Match object; span=(55, 56), match='1'>\n",
      "<re.Match object; span=(56, 57), match='2'>\n",
      "<re.Match object; span=(57, 58), match='3'>\n",
      "<re.Match object; span=(58, 59), match='4'>\n",
      "<re.Match object; span=(59, 60), match='5'>\n",
      "<re.Match object; span=(60, 61), match='6'>\n",
      "<re.Match object; span=(61, 62), match='7'>\n",
      "<re.Match object; span=(62, 63), match='8'>\n",
      "<re.Match object; span=(63, 64), match='9'>\n",
      "<re.Match object; span=(64, 65), match='0'>\n",
      "<re.Match object; span=(67, 68), match='H'>\n",
      "<re.Match object; span=(68, 69), match='a'>\n",
      "<re.Match object; span=(70, 71), match='H'>\n",
      "<re.Match object; span=(71, 72), match='a'>\n",
      "<re.Match object; span=(72, 73), match='H'>\n",
      "<re.Match object; span=(73, 74), match='a'>\n",
      "<re.Match object; span=(76, 77), match='M'>\n",
      "<re.Match object; span=(77, 78), match='e'>\n",
      "<re.Match object; span=(78, 79), match='t'>\n",
      "<re.Match object; span=(79, 80), match='a'>\n",
      "<re.Match object; span=(80, 81), match='C'>\n",
      "<re.Match object; span=(81, 82), match='h'>\n",
      "<re.Match object; span=(82, 83), match='a'>\n",
      "<re.Match object; span=(83, 84), match='r'>\n",
      "<re.Match object; span=(84, 85), match='a'>\n",
      "<re.Match object; span=(85, 86), match='c'>\n",
      "<re.Match object; span=(86, 87), match='t'>\n",
      "<re.Match object; span=(87, 88), match='e'>\n",
      "<re.Match object; span=(88, 89), match='r'>\n",
      "<re.Match object; span=(89, 90), match='s'>\n",
      "<re.Match object; span=(92, 93), match='N'>\n",
      "<re.Match object; span=(93, 94), match='e'>\n",
      "<re.Match object; span=(94, 95), match='e'>\n",
      "<re.Match object; span=(95, 96), match='d'>\n",
      "<re.Match object; span=(97, 98), match='t'>\n",
      "<re.Match object; span=(98, 99), match='o'>\n",
      "<re.Match object; span=(100, 101), match='b'>\n",
      "<re.Match object; span=(101, 102), match='e'>\n",
      "<re.Match object; span=(103, 104), match='e'>\n",
      "<re.Match object; span=(104, 105), match='s'>\n",
      "<re.Match object; span=(105, 106), match='c'>\n",
      "<re.Match object; span=(106, 107), match='a'>\n",
      "<re.Match object; span=(107, 108), match='p'>\n",
      "<re.Match object; span=(108, 109), match='e'>\n",
      "<re.Match object; span=(109, 110), match='d'>\n",
      "<re.Match object; span=(142, 143), match='m'>\n",
      "<re.Match object; span=(143, 144), match='y'>\n",
      "<re.Match object; span=(144, 145), match='n'>\n",
      "<re.Match object; span=(145, 146), match='u'>\n",
      "<re.Match object; span=(146, 147), match='d'>\n",
      "<re.Match object; span=(147, 148), match='d'>\n",
      "<re.Match object; span=(148, 149), match='i'>\n",
      "<re.Match object; span=(149, 150), match='n'>\n",
      "<re.Match object; span=(150, 151), match='s'>\n",
      "<re.Match object; span=(152, 153), match='c'>\n",
      "<re.Match object; span=(153, 154), match='o'>\n",
      "<re.Match object; span=(154, 155), match='m'>\n",
      "<re.Match object; span=(157, 158), match='3'>\n",
      "<re.Match object; span=(158, 159), match='2'>\n",
      "<re.Match object; span=(159, 160), match='1'>\n",
      "<re.Match object; span=(161, 162), match='5'>\n",
      "<re.Match object; span=(162, 163), match='5'>\n",
      "<re.Match object; span=(163, 164), match='5'>\n",
      "<re.Match object; span=(165, 166), match='4'>\n",
      "<re.Match object; span=(166, 167), match='3'>\n",
      "<re.Match object; span=(167, 168), match='2'>\n",
      "<re.Match object; span=(168, 169), match='1'>\n",
      "<re.Match object; span=(170, 171), match='1'>\n",
      "<re.Match object; span=(171, 172), match='2'>\n",
      "<re.Match object; span=(172, 173), match='3'>\n",
      "<re.Match object; span=(174, 175), match='5'>\n",
      "<re.Match object; span=(175, 176), match='5'>\n",
      "<re.Match object; span=(176, 177), match='5'>\n",
      "<re.Match object; span=(178, 179), match='1'>\n",
      "<re.Match object; span=(179, 180), match='2'>\n",
      "<re.Match object; span=(180, 181), match='3'>\n",
      "<re.Match object; span=(181, 182), match='4'>\n",
      "<re.Match object; span=(183, 184), match='1'>\n",
      "<re.Match object; span=(184, 185), match='2'>\n",
      "<re.Match object; span=(185, 186), match='3'>\n",
      "<re.Match object; span=(187, 188), match='5'>\n",
      "<re.Match object; span=(188, 189), match='5'>\n",
      "<re.Match object; span=(189, 190), match='5'>\n",
      "<re.Match object; span=(191, 192), match='1'>\n",
      "<re.Match object; span=(192, 193), match='2'>\n",
      "<re.Match object; span=(193, 194), match='3'>\n",
      "<re.Match object; span=(194, 195), match='4'>\n",
      "<re.Match object; span=(196, 197), match='8'>\n",
      "<re.Match object; span=(197, 198), match='0'>\n",
      "<re.Match object; span=(198, 199), match='0'>\n",
      "<re.Match object; span=(200, 201), match='5'>\n",
      "<re.Match object; span=(201, 202), match='5'>\n",
      "<re.Match object; span=(202, 203), match='5'>\n",
      "<re.Match object; span=(204, 205), match='1'>\n",
      "<re.Match object; span=(205, 206), match='2'>\n",
      "<re.Match object; span=(206, 207), match='3'>\n",
      "<re.Match object; span=(207, 208), match='4'>\n",
      "<re.Match object; span=(209, 210), match='9'>\n",
      "<re.Match object; span=(210, 211), match='0'>\n",
      "<re.Match object; span=(211, 212), match='0'>\n",
      "<re.Match object; span=(213, 214), match='5'>\n",
      "<re.Match object; span=(214, 215), match='5'>\n",
      "<re.Match object; span=(215, 216), match='5'>\n",
      "<re.Match object; span=(217, 218), match='1'>\n",
      "<re.Match object; span=(218, 219), match='2'>\n",
      "<re.Match object; span=(219, 220), match='3'>\n",
      "<re.Match object; span=(220, 221), match='4'>\n",
      "<re.Match object; span=(223, 224), match='M'>\n",
      "<re.Match object; span=(224, 225), match='r'>\n",
      "<re.Match object; span=(227, 228), match='S'>\n",
      "<re.Match object; span=(228, 229), match='c'>\n",
      "<re.Match object; span=(229, 230), match='h'>\n",
      "<re.Match object; span=(230, 231), match='a'>\n",
      "<re.Match object; span=(231, 232), match='f'>\n",
      "<re.Match object; span=(232, 233), match='e'>\n",
      "<re.Match object; span=(233, 234), match='r'>\n",
      "<re.Match object; span=(235, 236), match='M'>\n",
      "<re.Match object; span=(236, 237), match='r'>\n",
      "<re.Match object; span=(238, 239), match='S'>\n",
      "<re.Match object; span=(239, 240), match='m'>\n",
      "<re.Match object; span=(240, 241), match='i'>\n",
      "<re.Match object; span=(241, 242), match='t'>\n",
      "<re.Match object; span=(242, 243), match='h'>\n",
      "<re.Match object; span=(244, 245), match='M'>\n",
      "<re.Match object; span=(245, 246), match='s'>\n",
      "<re.Match object; span=(247, 248), match='D'>\n",
      "<re.Match object; span=(248, 249), match='a'>\n",
      "<re.Match object; span=(249, 250), match='v'>\n",
      "<re.Match object; span=(250, 251), match='i'>\n",
      "<re.Match object; span=(251, 252), match='s'>\n",
      "<re.Match object; span=(253, 254), match='M'>\n",
      "<re.Match object; span=(254, 255), match='r'>\n",
      "<re.Match object; span=(255, 256), match='s'>\n",
      "<re.Match object; span=(258, 259), match='R'>\n",
      "<re.Match object; span=(259, 260), match='o'>\n",
      "<re.Match object; span=(260, 261), match='b'>\n",
      "<re.Match object; span=(261, 262), match='i'>\n",
      "<re.Match object; span=(262, 263), match='n'>\n",
      "<re.Match object; span=(263, 264), match='s'>\n",
      "<re.Match object; span=(264, 265), match='o'>\n",
      "<re.Match object; span=(265, 266), match='n'>\n",
      "<re.Match object; span=(267, 268), match='M'>\n",
      "<re.Match object; span=(268, 269), match='r'>\n",
      "<re.Match object; span=(271, 272), match='T'>\n"
     ]
    }
   ],
   "source": [
    "pattern = re.compile(r'\\w')\n",
    "\n",
    "matches = pattern.finditer(text_to_search)\n",
    "\n",
    "for match in matches:\n",
    "    print(match)\n",
    "    "
   ]
  },
  {
   "cell_type": "code",
   "execution_count": 24,
   "metadata": {
    "collapsed": true
   },
   "outputs": [
    {
     "name": "stdout",
     "output_type": "stream",
     "text": [
      "<re.Match object; span=(0, 1), match='\\n'>\n",
      "<re.Match object; span=(27, 28), match='\\n'>\n",
      "<re.Match object; span=(54, 55), match='\\n'>\n",
      "<re.Match object; span=(65, 66), match='\\n'>\n",
      "<re.Match object; span=(66, 67), match='\\n'>\n",
      "<re.Match object; span=(69, 70), match=' '>\n",
      "<re.Match object; span=(74, 75), match='\\n'>\n",
      "<re.Match object; span=(75, 76), match='\\n'>\n",
      "<re.Match object; span=(90, 91), match=' '>\n",
      "<re.Match object; span=(91, 92), match='('>\n",
      "<re.Match object; span=(96, 97), match=' '>\n",
      "<re.Match object; span=(99, 100), match=' '>\n",
      "<re.Match object; span=(102, 103), match=' '>\n",
      "<re.Match object; span=(110, 111), match=')'>\n",
      "<re.Match object; span=(111, 112), match=':'>\n",
      "<re.Match object; span=(112, 113), match='\\n'>\n",
      "<re.Match object; span=(113, 114), match='.'>\n",
      "<re.Match object; span=(114, 115), match=' '>\n",
      "<re.Match object; span=(115, 116), match='^'>\n",
      "<re.Match object; span=(116, 117), match=' '>\n",
      "<re.Match object; span=(117, 118), match='$'>\n",
      "<re.Match object; span=(118, 119), match=' '>\n",
      "<re.Match object; span=(119, 120), match='*'>\n",
      "<re.Match object; span=(120, 121), match=' '>\n",
      "<re.Match object; span=(121, 122), match='+'>\n",
      "<re.Match object; span=(122, 123), match=' '>\n",
      "<re.Match object; span=(123, 124), match='?'>\n",
      "<re.Match object; span=(124, 125), match=' '>\n",
      "<re.Match object; span=(125, 126), match='{'>\n",
      "<re.Match object; span=(126, 127), match=' '>\n",
      "<re.Match object; span=(127, 128), match='}'>\n",
      "<re.Match object; span=(128, 129), match=' '>\n",
      "<re.Match object; span=(129, 130), match='['>\n",
      "<re.Match object; span=(130, 131), match=' '>\n",
      "<re.Match object; span=(131, 132), match=']'>\n",
      "<re.Match object; span=(132, 133), match=' '>\n",
      "<re.Match object; span=(133, 134), match='\\\\'>\n",
      "<re.Match object; span=(134, 135), match=' '>\n",
      "<re.Match object; span=(135, 136), match='|'>\n",
      "<re.Match object; span=(136, 137), match=' '>\n",
      "<re.Match object; span=(137, 138), match='('>\n",
      "<re.Match object; span=(138, 139), match=' '>\n",
      "<re.Match object; span=(139, 140), match=')'>\n",
      "<re.Match object; span=(140, 141), match='\\n'>\n",
      "<re.Match object; span=(141, 142), match='\\n'>\n",
      "<re.Match object; span=(151, 152), match='.'>\n",
      "<re.Match object; span=(155, 156), match='\\n'>\n",
      "<re.Match object; span=(156, 157), match='\\n'>\n",
      "<re.Match object; span=(160, 161), match='-'>\n",
      "<re.Match object; span=(164, 165), match='-'>\n",
      "<re.Match object; span=(169, 170), match='\\n'>\n",
      "<re.Match object; span=(173, 174), match='.'>\n",
      "<re.Match object; span=(177, 178), match='.'>\n",
      "<re.Match object; span=(182, 183), match='\\n'>\n",
      "<re.Match object; span=(186, 187), match='*'>\n",
      "<re.Match object; span=(190, 191), match='*'>\n",
      "<re.Match object; span=(195, 196), match='\\n'>\n",
      "<re.Match object; span=(199, 200), match='-'>\n",
      "<re.Match object; span=(203, 204), match='-'>\n",
      "<re.Match object; span=(208, 209), match='\\n'>\n",
      "<re.Match object; span=(212, 213), match='-'>\n",
      "<re.Match object; span=(216, 217), match='-'>\n",
      "<re.Match object; span=(221, 222), match='\\n'>\n",
      "<re.Match object; span=(222, 223), match='\\n'>\n",
      "<re.Match object; span=(225, 226), match='.'>\n",
      "<re.Match object; span=(226, 227), match=' '>\n",
      "<re.Match object; span=(234, 235), match='\\n'>\n",
      "<re.Match object; span=(237, 238), match=' '>\n",
      "<re.Match object; span=(243, 244), match='\\n'>\n",
      "<re.Match object; span=(246, 247), match=' '>\n",
      "<re.Match object; span=(252, 253), match='\\n'>\n",
      "<re.Match object; span=(256, 257), match='.'>\n",
      "<re.Match object; span=(257, 258), match=' '>\n",
      "<re.Match object; span=(266, 267), match='\\n'>\n",
      "<re.Match object; span=(269, 270), match='.'>\n",
      "<re.Match object; span=(270, 271), match=' '>\n",
      "<re.Match object; span=(272, 273), match='\\n'>\n"
     ]
    }
   ],
   "source": [
    "pattern = re.compile(r\"\\W\")\n",
    "\n",
    "matches = pattern.finditer(text_to_search)\n",
    "\n",
    "for match in matches:\n",
    "    print(match)\n",
    "    "
   ]
  },
  {
   "cell_type": "code",
   "execution_count": 25,
   "metadata": {
    "collapsed": true
   },
   "outputs": [
    {
     "name": "stdout",
     "output_type": "stream",
     "text": [
      "<re.Match object; span=(0, 1), match='\\n'>\n",
      "<re.Match object; span=(27, 28), match='\\n'>\n",
      "<re.Match object; span=(54, 55), match='\\n'>\n",
      "<re.Match object; span=(65, 66), match='\\n'>\n",
      "<re.Match object; span=(66, 67), match='\\n'>\n",
      "<re.Match object; span=(69, 70), match=' '>\n",
      "<re.Match object; span=(74, 75), match='\\n'>\n",
      "<re.Match object; span=(75, 76), match='\\n'>\n",
      "<re.Match object; span=(90, 91), match=' '>\n",
      "<re.Match object; span=(96, 97), match=' '>\n",
      "<re.Match object; span=(99, 100), match=' '>\n",
      "<re.Match object; span=(102, 103), match=' '>\n",
      "<re.Match object; span=(112, 113), match='\\n'>\n",
      "<re.Match object; span=(114, 115), match=' '>\n",
      "<re.Match object; span=(116, 117), match=' '>\n",
      "<re.Match object; span=(118, 119), match=' '>\n",
      "<re.Match object; span=(120, 121), match=' '>\n",
      "<re.Match object; span=(122, 123), match=' '>\n",
      "<re.Match object; span=(124, 125), match=' '>\n",
      "<re.Match object; span=(126, 127), match=' '>\n",
      "<re.Match object; span=(128, 129), match=' '>\n",
      "<re.Match object; span=(130, 131), match=' '>\n",
      "<re.Match object; span=(132, 133), match=' '>\n",
      "<re.Match object; span=(134, 135), match=' '>\n",
      "<re.Match object; span=(136, 137), match=' '>\n",
      "<re.Match object; span=(138, 139), match=' '>\n",
      "<re.Match object; span=(140, 141), match='\\n'>\n",
      "<re.Match object; span=(141, 142), match='\\n'>\n",
      "<re.Match object; span=(155, 156), match='\\n'>\n",
      "<re.Match object; span=(156, 157), match='\\n'>\n",
      "<re.Match object; span=(169, 170), match='\\n'>\n",
      "<re.Match object; span=(182, 183), match='\\n'>\n",
      "<re.Match object; span=(195, 196), match='\\n'>\n",
      "<re.Match object; span=(208, 209), match='\\n'>\n",
      "<re.Match object; span=(221, 222), match='\\n'>\n",
      "<re.Match object; span=(222, 223), match='\\n'>\n",
      "<re.Match object; span=(226, 227), match=' '>\n",
      "<re.Match object; span=(234, 235), match='\\n'>\n",
      "<re.Match object; span=(237, 238), match=' '>\n",
      "<re.Match object; span=(243, 244), match='\\n'>\n",
      "<re.Match object; span=(246, 247), match=' '>\n",
      "<re.Match object; span=(252, 253), match='\\n'>\n",
      "<re.Match object; span=(257, 258), match=' '>\n",
      "<re.Match object; span=(266, 267), match='\\n'>\n",
      "<re.Match object; span=(270, 271), match=' '>\n",
      "<re.Match object; span=(272, 273), match='\\n'>\n"
     ]
    }
   ],
   "source": [
    "pattern = re.compile(r'\\s')\n",
    "\n",
    "matches = pattern.finditer(text_to_search)\n",
    "\n",
    "for match in matches:\n",
    "    print(match)\n",
    "    "
   ]
  },
  {
   "cell_type": "code",
   "execution_count": 26,
   "metadata": {
    "collapsed": true
   },
   "outputs": [
    {
     "name": "stdout",
     "output_type": "stream",
     "text": [
      "<re.Match object; span=(1, 2), match='a'>\n",
      "<re.Match object; span=(2, 3), match='b'>\n",
      "<re.Match object; span=(3, 4), match='c'>\n",
      "<re.Match object; span=(4, 5), match='d'>\n",
      "<re.Match object; span=(5, 6), match='e'>\n",
      "<re.Match object; span=(6, 7), match='f'>\n",
      "<re.Match object; span=(7, 8), match='g'>\n",
      "<re.Match object; span=(8, 9), match='h'>\n",
      "<re.Match object; span=(9, 10), match='i'>\n",
      "<re.Match object; span=(10, 11), match='j'>\n",
      "<re.Match object; span=(11, 12), match='k'>\n",
      "<re.Match object; span=(12, 13), match='l'>\n",
      "<re.Match object; span=(13, 14), match='m'>\n",
      "<re.Match object; span=(14, 15), match='n'>\n",
      "<re.Match object; span=(15, 16), match='o'>\n",
      "<re.Match object; span=(16, 17), match='p'>\n",
      "<re.Match object; span=(17, 18), match='q'>\n",
      "<re.Match object; span=(18, 19), match='u'>\n",
      "<re.Match object; span=(19, 20), match='r'>\n",
      "<re.Match object; span=(20, 21), match='t'>\n",
      "<re.Match object; span=(21, 22), match='u'>\n",
      "<re.Match object; span=(22, 23), match='v'>\n",
      "<re.Match object; span=(23, 24), match='w'>\n",
      "<re.Match object; span=(24, 25), match='x'>\n",
      "<re.Match object; span=(25, 26), match='y'>\n",
      "<re.Match object; span=(26, 27), match='z'>\n",
      "<re.Match object; span=(28, 29), match='A'>\n",
      "<re.Match object; span=(29, 30), match='B'>\n",
      "<re.Match object; span=(30, 31), match='C'>\n",
      "<re.Match object; span=(31, 32), match='D'>\n",
      "<re.Match object; span=(32, 33), match='E'>\n",
      "<re.Match object; span=(33, 34), match='F'>\n",
      "<re.Match object; span=(34, 35), match='G'>\n",
      "<re.Match object; span=(35, 36), match='H'>\n",
      "<re.Match object; span=(36, 37), match='I'>\n",
      "<re.Match object; span=(37, 38), match='J'>\n",
      "<re.Match object; span=(38, 39), match='K'>\n",
      "<re.Match object; span=(39, 40), match='L'>\n",
      "<re.Match object; span=(40, 41), match='M'>\n",
      "<re.Match object; span=(41, 42), match='N'>\n",
      "<re.Match object; span=(42, 43), match='O'>\n",
      "<re.Match object; span=(43, 44), match='P'>\n",
      "<re.Match object; span=(44, 45), match='Q'>\n",
      "<re.Match object; span=(45, 46), match='R'>\n",
      "<re.Match object; span=(46, 47), match='S'>\n",
      "<re.Match object; span=(47, 48), match='T'>\n",
      "<re.Match object; span=(48, 49), match='U'>\n",
      "<re.Match object; span=(49, 50), match='V'>\n",
      "<re.Match object; span=(50, 51), match='W'>\n",
      "<re.Match object; span=(51, 52), match='X'>\n",
      "<re.Match object; span=(52, 53), match='Y'>\n",
      "<re.Match object; span=(53, 54), match='Z'>\n",
      "<re.Match object; span=(55, 56), match='1'>\n",
      "<re.Match object; span=(56, 57), match='2'>\n",
      "<re.Match object; span=(57, 58), match='3'>\n",
      "<re.Match object; span=(58, 59), match='4'>\n",
      "<re.Match object; span=(59, 60), match='5'>\n",
      "<re.Match object; span=(60, 61), match='6'>\n",
      "<re.Match object; span=(61, 62), match='7'>\n",
      "<re.Match object; span=(62, 63), match='8'>\n",
      "<re.Match object; span=(63, 64), match='9'>\n",
      "<re.Match object; span=(64, 65), match='0'>\n",
      "<re.Match object; span=(67, 68), match='H'>\n",
      "<re.Match object; span=(68, 69), match='a'>\n",
      "<re.Match object; span=(70, 71), match='H'>\n",
      "<re.Match object; span=(71, 72), match='a'>\n",
      "<re.Match object; span=(72, 73), match='H'>\n",
      "<re.Match object; span=(73, 74), match='a'>\n",
      "<re.Match object; span=(76, 77), match='M'>\n",
      "<re.Match object; span=(77, 78), match='e'>\n",
      "<re.Match object; span=(78, 79), match='t'>\n",
      "<re.Match object; span=(79, 80), match='a'>\n",
      "<re.Match object; span=(80, 81), match='C'>\n",
      "<re.Match object; span=(81, 82), match='h'>\n",
      "<re.Match object; span=(82, 83), match='a'>\n",
      "<re.Match object; span=(83, 84), match='r'>\n",
      "<re.Match object; span=(84, 85), match='a'>\n",
      "<re.Match object; span=(85, 86), match='c'>\n",
      "<re.Match object; span=(86, 87), match='t'>\n",
      "<re.Match object; span=(87, 88), match='e'>\n",
      "<re.Match object; span=(88, 89), match='r'>\n",
      "<re.Match object; span=(89, 90), match='s'>\n",
      "<re.Match object; span=(91, 92), match='('>\n",
      "<re.Match object; span=(92, 93), match='N'>\n",
      "<re.Match object; span=(93, 94), match='e'>\n",
      "<re.Match object; span=(94, 95), match='e'>\n",
      "<re.Match object; span=(95, 96), match='d'>\n",
      "<re.Match object; span=(97, 98), match='t'>\n",
      "<re.Match object; span=(98, 99), match='o'>\n",
      "<re.Match object; span=(100, 101), match='b'>\n",
      "<re.Match object; span=(101, 102), match='e'>\n",
      "<re.Match object; span=(103, 104), match='e'>\n",
      "<re.Match object; span=(104, 105), match='s'>\n",
      "<re.Match object; span=(105, 106), match='c'>\n",
      "<re.Match object; span=(106, 107), match='a'>\n",
      "<re.Match object; span=(107, 108), match='p'>\n",
      "<re.Match object; span=(108, 109), match='e'>\n",
      "<re.Match object; span=(109, 110), match='d'>\n",
      "<re.Match object; span=(110, 111), match=')'>\n",
      "<re.Match object; span=(111, 112), match=':'>\n",
      "<re.Match object; span=(113, 114), match='.'>\n",
      "<re.Match object; span=(115, 116), match='^'>\n",
      "<re.Match object; span=(117, 118), match='$'>\n",
      "<re.Match object; span=(119, 120), match='*'>\n",
      "<re.Match object; span=(121, 122), match='+'>\n",
      "<re.Match object; span=(123, 124), match='?'>\n",
      "<re.Match object; span=(125, 126), match='{'>\n",
      "<re.Match object; span=(127, 128), match='}'>\n",
      "<re.Match object; span=(129, 130), match='['>\n",
      "<re.Match object; span=(131, 132), match=']'>\n",
      "<re.Match object; span=(133, 134), match='\\\\'>\n",
      "<re.Match object; span=(135, 136), match='|'>\n",
      "<re.Match object; span=(137, 138), match='('>\n",
      "<re.Match object; span=(139, 140), match=')'>\n",
      "<re.Match object; span=(142, 143), match='m'>\n",
      "<re.Match object; span=(143, 144), match='y'>\n",
      "<re.Match object; span=(144, 145), match='n'>\n",
      "<re.Match object; span=(145, 146), match='u'>\n",
      "<re.Match object; span=(146, 147), match='d'>\n",
      "<re.Match object; span=(147, 148), match='d'>\n",
      "<re.Match object; span=(148, 149), match='i'>\n",
      "<re.Match object; span=(149, 150), match='n'>\n",
      "<re.Match object; span=(150, 151), match='s'>\n",
      "<re.Match object; span=(151, 152), match='.'>\n",
      "<re.Match object; span=(152, 153), match='c'>\n",
      "<re.Match object; span=(153, 154), match='o'>\n",
      "<re.Match object; span=(154, 155), match='m'>\n",
      "<re.Match object; span=(157, 158), match='3'>\n",
      "<re.Match object; span=(158, 159), match='2'>\n",
      "<re.Match object; span=(159, 160), match='1'>\n",
      "<re.Match object; span=(160, 161), match='-'>\n",
      "<re.Match object; span=(161, 162), match='5'>\n",
      "<re.Match object; span=(162, 163), match='5'>\n",
      "<re.Match object; span=(163, 164), match='5'>\n",
      "<re.Match object; span=(164, 165), match='-'>\n",
      "<re.Match object; span=(165, 166), match='4'>\n",
      "<re.Match object; span=(166, 167), match='3'>\n",
      "<re.Match object; span=(167, 168), match='2'>\n",
      "<re.Match object; span=(168, 169), match='1'>\n",
      "<re.Match object; span=(170, 171), match='1'>\n",
      "<re.Match object; span=(171, 172), match='2'>\n",
      "<re.Match object; span=(172, 173), match='3'>\n",
      "<re.Match object; span=(173, 174), match='.'>\n",
      "<re.Match object; span=(174, 175), match='5'>\n",
      "<re.Match object; span=(175, 176), match='5'>\n",
      "<re.Match object; span=(176, 177), match='5'>\n",
      "<re.Match object; span=(177, 178), match='.'>\n",
      "<re.Match object; span=(178, 179), match='1'>\n",
      "<re.Match object; span=(179, 180), match='2'>\n",
      "<re.Match object; span=(180, 181), match='3'>\n",
      "<re.Match object; span=(181, 182), match='4'>\n",
      "<re.Match object; span=(183, 184), match='1'>\n",
      "<re.Match object; span=(184, 185), match='2'>\n",
      "<re.Match object; span=(185, 186), match='3'>\n",
      "<re.Match object; span=(186, 187), match='*'>\n",
      "<re.Match object; span=(187, 188), match='5'>\n",
      "<re.Match object; span=(188, 189), match='5'>\n",
      "<re.Match object; span=(189, 190), match='5'>\n",
      "<re.Match object; span=(190, 191), match='*'>\n",
      "<re.Match object; span=(191, 192), match='1'>\n",
      "<re.Match object; span=(192, 193), match='2'>\n",
      "<re.Match object; span=(193, 194), match='3'>\n",
      "<re.Match object; span=(194, 195), match='4'>\n",
      "<re.Match object; span=(196, 197), match='8'>\n",
      "<re.Match object; span=(197, 198), match='0'>\n",
      "<re.Match object; span=(198, 199), match='0'>\n",
      "<re.Match object; span=(199, 200), match='-'>\n",
      "<re.Match object; span=(200, 201), match='5'>\n",
      "<re.Match object; span=(201, 202), match='5'>\n",
      "<re.Match object; span=(202, 203), match='5'>\n",
      "<re.Match object; span=(203, 204), match='-'>\n",
      "<re.Match object; span=(204, 205), match='1'>\n",
      "<re.Match object; span=(205, 206), match='2'>\n",
      "<re.Match object; span=(206, 207), match='3'>\n",
      "<re.Match object; span=(207, 208), match='4'>\n",
      "<re.Match object; span=(209, 210), match='9'>\n",
      "<re.Match object; span=(210, 211), match='0'>\n",
      "<re.Match object; span=(211, 212), match='0'>\n",
      "<re.Match object; span=(212, 213), match='-'>\n",
      "<re.Match object; span=(213, 214), match='5'>\n",
      "<re.Match object; span=(214, 215), match='5'>\n",
      "<re.Match object; span=(215, 216), match='5'>\n",
      "<re.Match object; span=(216, 217), match='-'>\n",
      "<re.Match object; span=(217, 218), match='1'>\n",
      "<re.Match object; span=(218, 219), match='2'>\n",
      "<re.Match object; span=(219, 220), match='3'>\n",
      "<re.Match object; span=(220, 221), match='4'>\n",
      "<re.Match object; span=(223, 224), match='M'>\n",
      "<re.Match object; span=(224, 225), match='r'>\n",
      "<re.Match object; span=(225, 226), match='.'>\n",
      "<re.Match object; span=(227, 228), match='S'>\n",
      "<re.Match object; span=(228, 229), match='c'>\n",
      "<re.Match object; span=(229, 230), match='h'>\n",
      "<re.Match object; span=(230, 231), match='a'>\n",
      "<re.Match object; span=(231, 232), match='f'>\n",
      "<re.Match object; span=(232, 233), match='e'>\n",
      "<re.Match object; span=(233, 234), match='r'>\n",
      "<re.Match object; span=(235, 236), match='M'>\n",
      "<re.Match object; span=(236, 237), match='r'>\n",
      "<re.Match object; span=(238, 239), match='S'>\n",
      "<re.Match object; span=(239, 240), match='m'>\n",
      "<re.Match object; span=(240, 241), match='i'>\n",
      "<re.Match object; span=(241, 242), match='t'>\n",
      "<re.Match object; span=(242, 243), match='h'>\n",
      "<re.Match object; span=(244, 245), match='M'>\n",
      "<re.Match object; span=(245, 246), match='s'>\n",
      "<re.Match object; span=(247, 248), match='D'>\n",
      "<re.Match object; span=(248, 249), match='a'>\n",
      "<re.Match object; span=(249, 250), match='v'>\n",
      "<re.Match object; span=(250, 251), match='i'>\n",
      "<re.Match object; span=(251, 252), match='s'>\n",
      "<re.Match object; span=(253, 254), match='M'>\n",
      "<re.Match object; span=(254, 255), match='r'>\n",
      "<re.Match object; span=(255, 256), match='s'>\n",
      "<re.Match object; span=(256, 257), match='.'>\n",
      "<re.Match object; span=(258, 259), match='R'>\n",
      "<re.Match object; span=(259, 260), match='o'>\n",
      "<re.Match object; span=(260, 261), match='b'>\n",
      "<re.Match object; span=(261, 262), match='i'>\n",
      "<re.Match object; span=(262, 263), match='n'>\n",
      "<re.Match object; span=(263, 264), match='s'>\n",
      "<re.Match object; span=(264, 265), match='o'>\n",
      "<re.Match object; span=(265, 266), match='n'>\n",
      "<re.Match object; span=(267, 268), match='M'>\n",
      "<re.Match object; span=(268, 269), match='r'>\n",
      "<re.Match object; span=(269, 270), match='.'>\n",
      "<re.Match object; span=(271, 272), match='T'>\n"
     ]
    }
   ],
   "source": [
    "pattern = re.compile(r'\\S')\n",
    "\n",
    "matches = pattern.finditer(text_to_search)\n",
    "\n",
    "for match in matches:\n",
    "    print(match)\n",
    "    "
   ]
  },
  {
   "cell_type": "code",
   "execution_count": 27,
   "metadata": {},
   "outputs": [
    {
     "name": "stdout",
     "output_type": "stream",
     "text": [
      "<re.Match object; span=(67, 69), match='Ha'>\n",
      "<re.Match object; span=(70, 72), match='Ha'>\n"
     ]
    }
   ],
   "source": [
    "pattern = re.compile(r'\\bHa')\n",
    "\n",
    "matches = pattern.finditer(text_to_search)\n",
    "\n",
    "for match in matches:\n",
    "    print(match)\n",
    "    "
   ]
  },
  {
   "cell_type": "code",
   "execution_count": 28,
   "metadata": {
    "scrolled": true
   },
   "outputs": [
    {
     "name": "stdout",
     "output_type": "stream",
     "text": [
      "<re.Match object; span=(67, 69), match='Ha'>\n"
     ]
    }
   ],
   "source": [
    "pattern = re.compile(r'\\bHa\\b')\n",
    "\n",
    "matches = pattern.finditer(text_to_search)\n",
    "\n",
    "for match in matches:\n",
    "    print(match)\n",
    "    "
   ]
  },
  {
   "cell_type": "code",
   "execution_count": 29,
   "metadata": {},
   "outputs": [
    {
     "name": "stdout",
     "output_type": "stream",
     "text": [
      "<re.Match object; span=(72, 74), match='Ha'>\n"
     ]
    }
   ],
   "source": [
    "pattern = re.compile(r'\\BHa')\n",
    "\n",
    "matches = pattern.finditer(text_to_search)\n",
    "\n",
    "for match in matches:\n",
    "    print(match)\n",
    "    "
   ]
  },
  {
   "cell_type": "code",
   "execution_count": 34,
   "metadata": {},
   "outputs": [],
   "source": [
    "sentence ='Start a sentence and then bring it to an end'\n"
   ]
  },
  {
   "cell_type": "code",
   "execution_count": 35,
   "metadata": {},
   "outputs": [
    {
     "name": "stdout",
     "output_type": "stream",
     "text": [
      "<re.Match object; span=(0, 5), match='Start'>\n"
     ]
    }
   ],
   "source": [
    "pattern = re.compile(r'^Start') # start => error or none\n",
    "\n",
    "matches = pattern.finditer(sentence)\n",
    "\n",
    "for match in matches:\n",
    "    print(match)\n",
    "    "
   ]
  },
  {
   "cell_type": "code",
   "execution_count": 36,
   "metadata": {},
   "outputs": [],
   "source": [
    "pattern = re.compile(r'^tart')\n",
    "\n",
    "matches = pattern.finditer(sentence)\n",
    "\n",
    "for match in matches:\n",
    "    print(match)"
   ]
  },
  {
   "cell_type": "code",
   "execution_count": 37,
   "metadata": {
    "scrolled": true
   },
   "outputs": [
    {
     "name": "stdout",
     "output_type": "stream",
     "text": [
      "<re.Match object; span=(41, 44), match='end'>\n"
     ]
    }
   ],
   "source": [
    "pattern = re.compile(r'end$')\n",
    "\n",
    "matches = pattern.finditer(sentence)\n",
    "\n",
    "for match in matches:\n",
    "    print(match)"
   ]
  },
  {
   "cell_type": "code",
   "execution_count": 38,
   "metadata": {
    "collapsed": true
   },
   "outputs": [
    {
     "name": "stdout",
     "output_type": "stream",
     "text": [
      "<re.Match object; span=(55, 58), match='123'>\n",
      "<re.Match object; span=(58, 61), match='456'>\n",
      "<re.Match object; span=(61, 64), match='789'>\n",
      "<re.Match object; span=(157, 160), match='321'>\n",
      "<re.Match object; span=(161, 164), match='555'>\n",
      "<re.Match object; span=(165, 168), match='432'>\n",
      "<re.Match object; span=(170, 173), match='123'>\n",
      "<re.Match object; span=(174, 177), match='555'>\n",
      "<re.Match object; span=(178, 181), match='123'>\n",
      "<re.Match object; span=(183, 186), match='123'>\n",
      "<re.Match object; span=(187, 190), match='555'>\n",
      "<re.Match object; span=(191, 194), match='123'>\n",
      "<re.Match object; span=(196, 199), match='800'>\n",
      "<re.Match object; span=(200, 203), match='555'>\n",
      "<re.Match object; span=(204, 207), match='123'>\n",
      "<re.Match object; span=(209, 212), match='900'>\n",
      "<re.Match object; span=(213, 216), match='555'>\n",
      "<re.Match object; span=(217, 220), match='123'>\n"
     ]
    }
   ],
   "source": [
    "pattern = re.compile(r'\\d\\d\\d') \n",
    "\n",
    "matches = pattern.finditer(text_to_search)\n",
    "\n",
    "for match in matches:\n",
    "    print(match)"
   ]
  },
  {
   "cell_type": "code",
   "execution_count": 39,
   "metadata": {},
   "outputs": [
    {
     "name": "stdout",
     "output_type": "stream",
     "text": [
      "<re.Match object; span=(55, 59), match='1234'>\n",
      "<re.Match object; span=(59, 63), match='5678'>\n",
      "<re.Match object; span=(165, 169), match='4321'>\n",
      "<re.Match object; span=(178, 182), match='1234'>\n",
      "<re.Match object; span=(191, 195), match='1234'>\n",
      "<re.Match object; span=(204, 208), match='1234'>\n",
      "<re.Match object; span=(217, 221), match='1234'>\n"
     ]
    }
   ],
   "source": [
    "pattern = re.compile(r'\\d\\d\\d\\d') \n",
    "\n",
    "matches = pattern.finditer(text_to_search)\n",
    "\n",
    "for match in matches:\n",
    "    print(match)"
   ]
  },
  {
   "cell_type": "code",
   "execution_count": 44,
   "metadata": {},
   "outputs": [
    {
     "name": "stdout",
     "output_type": "stream",
     "text": [
      "<re.Match object; span=(157, 169), match='321-555-4321'>\n",
      "<re.Match object; span=(196, 208), match='800-555-1234'>\n",
      "<re.Match object; span=(209, 221), match='900-555-1234'>\n"
     ]
    }
   ],
   "source": [
    "pattern = re.compile(r'\\d{3}\\-\\d{3}\\-\\d{4}') \n",
    "\n",
    "matches = pattern.finditer(text_to_search)\n",
    "\n",
    "for match in matches:\n",
    "    print(match)"
   ]
  },
  {
   "cell_type": "code",
   "execution_count": 45,
   "metadata": {},
   "outputs": [
    {
     "name": "stdout",
     "output_type": "stream",
     "text": [
      "<re.Match object; span=(170, 182), match='123.555.1234'>\n"
     ]
    }
   ],
   "source": [
    "pattern = re.compile(r'\\d{3}\\.\\d{3}\\.\\d{4}') \n",
    "\n",
    "matches = pattern.finditer(text_to_search)\n",
    "\n",
    "for match in matches:\n",
    "    print(match)"
   ]
  },
  {
   "cell_type": "code",
   "execution_count": 46,
   "metadata": {},
   "outputs": [
    {
     "name": "stdout",
     "output_type": "stream",
     "text": [
      "<re.Match object; span=(183, 195), match='123*555*1234'>\n"
     ]
    }
   ],
   "source": [
    "pattern = re.compile(r'\\d{3}\\*\\d{3}\\*\\d{4}') \n",
    "\n",
    "matches = pattern.finditer(text_to_search)\n",
    "\n",
    "for match in matches:\n",
    "    print(match)"
   ]
  },
  {
   "cell_type": "code",
   "execution_count": 47,
   "metadata": {},
   "outputs": [
    {
     "name": "stdout",
     "output_type": "stream",
     "text": [
      "<re.Match object; span=(170, 182), match='123.555.1234'>\n"
     ]
    }
   ],
   "source": [
    "pattern = re.compile(r'\\d\\d\\d\\.\\d\\d\\d\\.\\d\\d\\d\\d') \n",
    "\n",
    "matches = pattern.finditer(text_to_search)\n",
    "\n",
    "for match in matches:\n",
    "    print(match)"
   ]
  },
  {
   "cell_type": "code",
   "execution_count": 48,
   "metadata": {},
   "outputs": [
    {
     "name": "stdout",
     "output_type": "stream",
     "text": [
      "<re.Match object; span=(157, 169), match='321-555-4321'>\n",
      "<re.Match object; span=(196, 208), match='800-555-1234'>\n",
      "<re.Match object; span=(209, 221), match='900-555-1234'>\n"
     ]
    }
   ],
   "source": [
    "pattern = re.compile(r'\\d\\d\\d\\-\\d\\d\\d\\-\\d\\d\\d\\d') \n",
    "\n",
    "matches = pattern.finditer(text_to_search)\n",
    "\n",
    "for match in matches:\n",
    "    print(match)"
   ]
  },
  {
   "cell_type": "code",
   "execution_count": 49,
   "metadata": {},
   "outputs": [
    {
     "name": "stdout",
     "output_type": "stream",
     "text": [
      "<re.Match object; span=(183, 195), match='123*555*1234'>\n"
     ]
    }
   ],
   "source": [
    "pattern = re.compile(r'\\d\\d\\d\\*\\d\\d\\d\\*\\d\\d\\d\\d') \n",
    "\n",
    "matches = pattern.finditer(text_to_search)\n",
    "\n",
    "for match in matches:\n",
    "    print(match)"
   ]
  },
  {
   "cell_type": "code",
   "execution_count": 52,
   "metadata": {
    "collapsed": true
   },
   "outputs": [
    {
     "name": "stdout",
     "output_type": "stream",
     "text": [
      "<re.Match object; span=(12, 24), match='615-555-7164'>\n",
      "<re.Match object; span=(102, 114), match='800-555-5669'>\n",
      "<re.Match object; span=(191, 203), match='560-555-5153'>\n",
      "<re.Match object; span=(281, 293), match='900-555-9340'>\n",
      "<re.Match object; span=(378, 390), match='714-555-7405'>\n",
      "<re.Match object; span=(467, 479), match='800-555-6771'>\n",
      "<re.Match object; span=(557, 569), match='783-555-4799'>\n",
      "<re.Match object; span=(647, 659), match='516-555-4615'>\n",
      "<re.Match object; span=(740, 752), match='127-555-1867'>\n",
      "<re.Match object; span=(831, 843), match='608-555-4938'>\n",
      "<re.Match object; span=(917, 929), match='568-555-6051'>\n",
      "<re.Match object; span=(1005, 1017), match='292-555-1875'>\n",
      "<re.Match object; span=(1093, 1105), match='900-555-3205'>\n",
      "<re.Match object; span=(1182, 1194), match='614-555-1166'>\n",
      "<re.Match object; span=(1273, 1285), match='530-555-2676'>\n",
      "<re.Match object; span=(1359, 1371), match='470-555-2750'>\n",
      "<re.Match object; span=(1443, 1455), match='800-555-6089'>\n",
      "<re.Match object; span=(1530, 1542), match='880-555-8319'>\n",
      "<re.Match object; span=(1618, 1630), match='777-555-8378'>\n",
      "<re.Match object; span=(1701, 1713), match='998-555-7385'>\n",
      "<re.Match object; span=(1794, 1806), match='800-555-7100'>\n",
      "<re.Match object; span=(1878, 1890), match='903-555-8277'>\n",
      "<re.Match object; span=(1966, 1978), match='196-555-5674'>\n",
      "<re.Match object; span=(2055, 2067), match='900-555-5118'>\n",
      "<re.Match object; span=(2139, 2151), match='905-555-1630'>\n",
      "<re.Match object; span=(2220, 2232), match='203-555-3475'>\n",
      "<re.Match object; span=(2304, 2316), match='884-555-8444'>\n",
      "<re.Match object; span=(2391, 2403), match='904-555-8559'>\n",
      "<re.Match object; span=(2479, 2491), match='889-555-7393'>\n",
      "<re.Match object; span=(2566, 2578), match='195-555-2405'>\n",
      "<re.Match object; span=(2651, 2663), match='321-555-9053'>\n",
      "<re.Match object; span=(2738, 2750), match='133-555-1711'>\n",
      "<re.Match object; span=(2830, 2842), match='900-555-5428'>\n",
      "<re.Match object; span=(2919, 2931), match='760-555-7147'>\n",
      "<re.Match object; span=(3018, 3030), match='391-555-6621'>\n",
      "<re.Match object; span=(3109, 3121), match='932-555-7724'>\n",
      "<re.Match object; span=(3198, 3210), match='609-555-7908'>\n",
      "<re.Match object; span=(3290, 3302), match='800-555-8810'>\n",
      "<re.Match object; span=(3378, 3390), match='149-555-7657'>\n",
      "<re.Match object; span=(3458, 3470), match='130-555-9709'>\n",
      "<re.Match object; span=(3541, 3553), match='143-555-9295'>\n",
      "<re.Match object; span=(3630, 3642), match='903-555-9878'>\n",
      "<re.Match object; span=(3720, 3732), match='574-555-3194'>\n",
      "<re.Match object; span=(3808, 3820), match='496-555-7533'>\n",
      "<re.Match object; span=(3893, 3905), match='210-555-3757'>\n",
      "<re.Match object; span=(3977, 3989), match='900-555-9598'>\n",
      "<re.Match object; span=(4062, 4074), match='866-555-9844'>\n",
      "<re.Match object; span=(4146, 4158), match='669-555-7159'>\n",
      "<re.Match object; span=(4231, 4243), match='152-555-7417'>\n",
      "<re.Match object; span=(4323, 4335), match='893-555-9832'>\n",
      "<re.Match object; span=(4413, 4425), match='217-555-7123'>\n",
      "<re.Match object; span=(4504, 4516), match='786-555-6544'>\n",
      "<re.Match object; span=(4594, 4606), match='780-555-2574'>\n",
      "<re.Match object; span=(4682, 4694), match='926-555-8735'>\n",
      "<re.Match object; span=(4768, 4780), match='895-555-3539'>\n",
      "<re.Match object; span=(4865, 4877), match='874-555-3949'>\n",
      "<re.Match object; span=(4951, 4963), match='800-555-2420'>\n",
      "<re.Match object; span=(5040, 5052), match='936-555-6340'>\n",
      "<re.Match object; span=(5129, 5141), match='372-555-9809'>\n",
      "<re.Match object; span=(5216, 5228), match='890-555-5618'>\n",
      "<re.Match object; span=(5298, 5310), match='670-555-3005'>\n",
      "<re.Match object; span=(5388, 5400), match='509-555-5997'>\n",
      "<re.Match object; span=(5481, 5493), match='721-555-5632'>\n",
      "<re.Match object; span=(5572, 5584), match='900-555-3567'>\n",
      "<re.Match object; span=(5662, 5674), match='147-555-6830'>\n",
      "<re.Match object; span=(5751, 5763), match='582-555-3426'>\n",
      "<re.Match object; span=(5836, 5848), match='400-555-1706'>\n",
      "<re.Match object; span=(5927, 5939), match='525-555-1793'>\n",
      "<re.Match object; span=(6017, 6029), match='317-555-6700'>\n",
      "<re.Match object; span=(6105, 6117), match='974-555-8301'>\n",
      "<re.Match object; span=(6195, 6207), match='800-555-3216'>\n",
      "<re.Match object; span=(6281, 6293), match='746-555-4094'>\n",
      "<re.Match object; span=(6368, 6380), match='922-555-1773'>\n",
      "<re.Match object; span=(6453, 6465), match='711-555-4427'>\n",
      "<re.Match object; span=(6538, 6550), match='355-555-1872'>\n",
      "<re.Match object; span=(6627, 6639), match='852-555-6521'>\n",
      "<re.Match object; span=(6719, 6731), match='691-555-5773'>\n",
      "<re.Match object; span=(6811, 6823), match='332-555-5441'>\n",
      "<re.Match object; span=(6897, 6909), match='900-555-7755'>\n",
      "<re.Match object; span=(6979, 6991), match='379-555-3685'>\n",
      "<re.Match object; span=(7069, 7081), match='127-555-9682'>\n",
      "<re.Match object; span=(7160, 7172), match='789-555-7032'>\n",
      "<re.Match object; span=(7251, 7263), match='783-555-5135'>\n",
      "<re.Match object; span=(7344, 7356), match='315-555-6507'>\n",
      "<re.Match object; span=(7435, 7447), match='481-555-5835'>\n",
      "<re.Match object; span=(7523, 7535), match='365-555-8287'>\n",
      "<re.Match object; span=(7615, 7627), match='911-555-7535'>\n",
      "<re.Match object; span=(7701, 7713), match='681-555-2460'>\n",
      "<re.Match object; span=(7787, 7799), match='274-555-9800'>\n",
      "<re.Match object; span=(7872, 7884), match='800-555-1372'>\n",
      "<re.Match object; span=(7961, 7973), match='300-555-7821'>\n",
      "<re.Match object; span=(8051, 8063), match='133-555-3889'>\n",
      "<re.Match object; span=(8139, 8151), match='705-555-6863'>\n",
      "<re.Match object; span=(8228, 8240), match='215-555-9449'>\n",
      "<re.Match object; span=(8319, 8331), match='988-555-6112'>\n",
      "<re.Match object; span=(8405, 8417), match='623-555-3006'>\n",
      "<re.Match object; span=(8489, 8501), match='192-555-4977'>\n",
      "<re.Match object; span=(8574, 8586), match='178-555-4899'>\n",
      "<re.Match object; span=(8658, 8670), match='952-555-3089'>\n",
      "<re.Match object; span=(8751, 8763), match='900-555-6426'>\n"
     ]
    }
   ],
   "source": [
    "\n",
    "pattern = re.compile(r'\\d\\d\\d\\-\\d\\d\\d\\-\\d\\d\\d\\d') \n",
    "\n",
    "with open(\"data.txt\" , \"r\") as f:\n",
    "    contents = f.read()\n",
    "    \n",
    "    matches = pattern.finditer(contents)\n",
    "    for match in matches:\n",
    "        print(match)"
   ]
  },
  {
   "cell_type": "code",
   "execution_count": 59,
   "metadata": {},
   "outputs": [
    {
     "name": "stdout",
     "output_type": "stream",
     "text": [
      "<re.Match object; span=(157, 169), match='321-555-4321'>\n",
      "<re.Match object; span=(170, 182), match='123.555.1234'>\n",
      "<re.Match object; span=(196, 208), match='800-555-1234'>\n",
      "<re.Match object; span=(209, 221), match='900-555-1234'>\n"
     ]
    }
   ],
   "source": [
    "pattern = re.compile(r'\\d\\d\\d[-.]\\d\\d\\d[-.]\\d\\d\\d\\d') \n",
    "\n",
    "matches = pattern.finditer(text_to_search)\n",
    "\n",
    "for match in matches:\n",
    "    print(match)"
   ]
  },
  {
   "cell_type": "code",
   "execution_count": 62,
   "metadata": {},
   "outputs": [
    {
     "name": "stdout",
     "output_type": "stream",
     "text": [
      "<re.Match object; span=(157, 169), match='321-555-4321'>\n",
      "<re.Match object; span=(170, 182), match='123.555.1234'>\n",
      "<re.Match object; span=(183, 195), match='123*555*1234'>\n",
      "<re.Match object; span=(196, 208), match='800-555-1234'>\n",
      "<re.Match object; span=(209, 221), match='900-555-1234'>\n"
     ]
    }
   ],
   "source": [
    "pattern = re.compile(r'\\d\\d\\d[-.*]\\d\\d\\d[-.*]\\d\\d\\d\\d') \n",
    "\n",
    "matches = pattern.finditer(text_to_search)\n",
    "\n",
    "for match in matches:\n",
    "    print(match)"
   ]
  },
  {
   "cell_type": "code",
   "execution_count": 74,
   "metadata": {},
   "outputs": [
    {
     "name": "stdout",
     "output_type": "stream",
     "text": [
      "<re.Match object; span=(157, 169), match='321-555-4321'>\n",
      "<re.Match object; span=(170, 182), match='123.555.1234'>\n",
      "<re.Match object; span=(183, 195), match='123*555*1234'>\n",
      "<re.Match object; span=(196, 208), match='800-555-1234'>\n",
      "<re.Match object; span=(209, 221), match='900-555-1234'>\n"
     ]
    }
   ],
   "source": [
    "\n",
    "pattern = re.compile(r'\\d\\d\\d.\\d\\d\\d.\\d\\d\\d\\d') \n",
    "\n",
    "matches = pattern.finditer(text_to_search)\n",
    "\n",
    "for match in matches:\n",
    "    print(match)"
   ]
  },
  {
   "cell_type": "code",
   "execution_count": 73,
   "metadata": {},
   "outputs": [
    {
     "name": "stdout",
     "output_type": "stream",
     "text": [
      "<re.Match object; span=(196, 208), match='800-555-1234'>\n",
      "<re.Match object; span=(209, 221), match='900-555-1234'>\n"
     ]
    }
   ],
   "source": [
    "pattern = re.compile(r'[89]00[-.*]\\d\\d\\d[-.*]\\d\\d\\d\\d') \n",
    "\n",
    "matches = pattern.finditer(text_to_search)\n",
    "\n",
    "for match in matches:\n",
    "    print(match)"
   ]
  },
  {
   "cell_type": "code",
   "execution_count": 65,
   "metadata": {
    "collapsed": true
   },
   "outputs": [
    {
     "name": "stdout",
     "output_type": "stream",
     "text": [
      "<re.Match object; span=(55, 56), match='1'>\n",
      "<re.Match object; span=(56, 57), match='2'>\n",
      "<re.Match object; span=(57, 58), match='3'>\n",
      "<re.Match object; span=(58, 59), match='4'>\n",
      "<re.Match object; span=(59, 60), match='5'>\n",
      "<re.Match object; span=(157, 158), match='3'>\n",
      "<re.Match object; span=(158, 159), match='2'>\n",
      "<re.Match object; span=(159, 160), match='1'>\n",
      "<re.Match object; span=(161, 162), match='5'>\n",
      "<re.Match object; span=(162, 163), match='5'>\n",
      "<re.Match object; span=(163, 164), match='5'>\n",
      "<re.Match object; span=(165, 166), match='4'>\n",
      "<re.Match object; span=(166, 167), match='3'>\n",
      "<re.Match object; span=(167, 168), match='2'>\n",
      "<re.Match object; span=(168, 169), match='1'>\n",
      "<re.Match object; span=(170, 171), match='1'>\n",
      "<re.Match object; span=(171, 172), match='2'>\n",
      "<re.Match object; span=(172, 173), match='3'>\n",
      "<re.Match object; span=(174, 175), match='5'>\n",
      "<re.Match object; span=(175, 176), match='5'>\n",
      "<re.Match object; span=(176, 177), match='5'>\n",
      "<re.Match object; span=(178, 179), match='1'>\n",
      "<re.Match object; span=(179, 180), match='2'>\n",
      "<re.Match object; span=(180, 181), match='3'>\n",
      "<re.Match object; span=(181, 182), match='4'>\n",
      "<re.Match object; span=(183, 184), match='1'>\n",
      "<re.Match object; span=(184, 185), match='2'>\n",
      "<re.Match object; span=(185, 186), match='3'>\n",
      "<re.Match object; span=(187, 188), match='5'>\n",
      "<re.Match object; span=(188, 189), match='5'>\n",
      "<re.Match object; span=(189, 190), match='5'>\n",
      "<re.Match object; span=(191, 192), match='1'>\n",
      "<re.Match object; span=(192, 193), match='2'>\n",
      "<re.Match object; span=(193, 194), match='3'>\n",
      "<re.Match object; span=(194, 195), match='4'>\n",
      "<re.Match object; span=(200, 201), match='5'>\n",
      "<re.Match object; span=(201, 202), match='5'>\n",
      "<re.Match object; span=(202, 203), match='5'>\n",
      "<re.Match object; span=(204, 205), match='1'>\n",
      "<re.Match object; span=(205, 206), match='2'>\n",
      "<re.Match object; span=(206, 207), match='3'>\n",
      "<re.Match object; span=(207, 208), match='4'>\n",
      "<re.Match object; span=(213, 214), match='5'>\n",
      "<re.Match object; span=(214, 215), match='5'>\n",
      "<re.Match object; span=(215, 216), match='5'>\n",
      "<re.Match object; span=(217, 218), match='1'>\n",
      "<re.Match object; span=(218, 219), match='2'>\n",
      "<re.Match object; span=(219, 220), match='3'>\n",
      "<re.Match object; span=(220, 221), match='4'>\n"
     ]
    }
   ],
   "source": [
    "pattern = re.compile(r\"[1-5]\") \n",
    "\n",
    "matches = pattern.finditer(text_to_search)\n",
    "\n",
    "for match in matches:\n",
    "    print(match)"
   ]
  },
  {
   "cell_type": "code",
   "execution_count": 66,
   "metadata": {
    "collapsed": true
   },
   "outputs": [
    {
     "name": "stdout",
     "output_type": "stream",
     "text": [
      "<re.Match object; span=(1, 2), match='a'>\n",
      "<re.Match object; span=(2, 3), match='b'>\n",
      "<re.Match object; span=(3, 4), match='c'>\n",
      "<re.Match object; span=(4, 5), match='d'>\n",
      "<re.Match object; span=(5, 6), match='e'>\n",
      "<re.Match object; span=(6, 7), match='f'>\n",
      "<re.Match object; span=(7, 8), match='g'>\n",
      "<re.Match object; span=(8, 9), match='h'>\n",
      "<re.Match object; span=(9, 10), match='i'>\n",
      "<re.Match object; span=(10, 11), match='j'>\n",
      "<re.Match object; span=(11, 12), match='k'>\n",
      "<re.Match object; span=(12, 13), match='l'>\n",
      "<re.Match object; span=(13, 14), match='m'>\n",
      "<re.Match object; span=(14, 15), match='n'>\n",
      "<re.Match object; span=(15, 16), match='o'>\n",
      "<re.Match object; span=(16, 17), match='p'>\n",
      "<re.Match object; span=(17, 18), match='q'>\n",
      "<re.Match object; span=(18, 19), match='u'>\n",
      "<re.Match object; span=(19, 20), match='r'>\n",
      "<re.Match object; span=(20, 21), match='t'>\n",
      "<re.Match object; span=(21, 22), match='u'>\n",
      "<re.Match object; span=(22, 23), match='v'>\n",
      "<re.Match object; span=(23, 24), match='w'>\n",
      "<re.Match object; span=(24, 25), match='x'>\n",
      "<re.Match object; span=(25, 26), match='y'>\n",
      "<re.Match object; span=(26, 27), match='z'>\n",
      "<re.Match object; span=(28, 29), match='A'>\n",
      "<re.Match object; span=(29, 30), match='B'>\n",
      "<re.Match object; span=(30, 31), match='C'>\n",
      "<re.Match object; span=(31, 32), match='D'>\n",
      "<re.Match object; span=(32, 33), match='E'>\n",
      "<re.Match object; span=(33, 34), match='F'>\n",
      "<re.Match object; span=(34, 35), match='G'>\n",
      "<re.Match object; span=(35, 36), match='H'>\n",
      "<re.Match object; span=(36, 37), match='I'>\n",
      "<re.Match object; span=(37, 38), match='J'>\n",
      "<re.Match object; span=(38, 39), match='K'>\n",
      "<re.Match object; span=(39, 40), match='L'>\n",
      "<re.Match object; span=(40, 41), match='M'>\n",
      "<re.Match object; span=(41, 42), match='N'>\n",
      "<re.Match object; span=(42, 43), match='O'>\n",
      "<re.Match object; span=(43, 44), match='P'>\n",
      "<re.Match object; span=(44, 45), match='Q'>\n",
      "<re.Match object; span=(45, 46), match='R'>\n",
      "<re.Match object; span=(46, 47), match='S'>\n",
      "<re.Match object; span=(47, 48), match='T'>\n",
      "<re.Match object; span=(48, 49), match='U'>\n",
      "<re.Match object; span=(49, 50), match='V'>\n",
      "<re.Match object; span=(50, 51), match='W'>\n",
      "<re.Match object; span=(51, 52), match='X'>\n",
      "<re.Match object; span=(52, 53), match='Y'>\n",
      "<re.Match object; span=(53, 54), match='Z'>\n",
      "<re.Match object; span=(67, 68), match='H'>\n",
      "<re.Match object; span=(68, 69), match='a'>\n",
      "<re.Match object; span=(70, 71), match='H'>\n",
      "<re.Match object; span=(71, 72), match='a'>\n",
      "<re.Match object; span=(72, 73), match='H'>\n",
      "<re.Match object; span=(73, 74), match='a'>\n",
      "<re.Match object; span=(76, 77), match='M'>\n",
      "<re.Match object; span=(77, 78), match='e'>\n",
      "<re.Match object; span=(78, 79), match='t'>\n",
      "<re.Match object; span=(79, 80), match='a'>\n",
      "<re.Match object; span=(80, 81), match='C'>\n",
      "<re.Match object; span=(81, 82), match='h'>\n",
      "<re.Match object; span=(82, 83), match='a'>\n",
      "<re.Match object; span=(83, 84), match='r'>\n",
      "<re.Match object; span=(84, 85), match='a'>\n",
      "<re.Match object; span=(85, 86), match='c'>\n",
      "<re.Match object; span=(86, 87), match='t'>\n",
      "<re.Match object; span=(87, 88), match='e'>\n",
      "<re.Match object; span=(88, 89), match='r'>\n",
      "<re.Match object; span=(89, 90), match='s'>\n",
      "<re.Match object; span=(92, 93), match='N'>\n",
      "<re.Match object; span=(93, 94), match='e'>\n",
      "<re.Match object; span=(94, 95), match='e'>\n",
      "<re.Match object; span=(95, 96), match='d'>\n",
      "<re.Match object; span=(97, 98), match='t'>\n",
      "<re.Match object; span=(98, 99), match='o'>\n",
      "<re.Match object; span=(100, 101), match='b'>\n",
      "<re.Match object; span=(101, 102), match='e'>\n",
      "<re.Match object; span=(103, 104), match='e'>\n",
      "<re.Match object; span=(104, 105), match='s'>\n",
      "<re.Match object; span=(105, 106), match='c'>\n",
      "<re.Match object; span=(106, 107), match='a'>\n",
      "<re.Match object; span=(107, 108), match='p'>\n",
      "<re.Match object; span=(108, 109), match='e'>\n",
      "<re.Match object; span=(109, 110), match='d'>\n",
      "<re.Match object; span=(142, 143), match='m'>\n",
      "<re.Match object; span=(143, 144), match='y'>\n",
      "<re.Match object; span=(144, 145), match='n'>\n",
      "<re.Match object; span=(145, 146), match='u'>\n",
      "<re.Match object; span=(146, 147), match='d'>\n",
      "<re.Match object; span=(147, 148), match='d'>\n",
      "<re.Match object; span=(148, 149), match='i'>\n",
      "<re.Match object; span=(149, 150), match='n'>\n",
      "<re.Match object; span=(150, 151), match='s'>\n",
      "<re.Match object; span=(152, 153), match='c'>\n",
      "<re.Match object; span=(153, 154), match='o'>\n",
      "<re.Match object; span=(154, 155), match='m'>\n",
      "<re.Match object; span=(223, 224), match='M'>\n",
      "<re.Match object; span=(224, 225), match='r'>\n",
      "<re.Match object; span=(227, 228), match='S'>\n",
      "<re.Match object; span=(228, 229), match='c'>\n",
      "<re.Match object; span=(229, 230), match='h'>\n",
      "<re.Match object; span=(230, 231), match='a'>\n",
      "<re.Match object; span=(231, 232), match='f'>\n",
      "<re.Match object; span=(232, 233), match='e'>\n",
      "<re.Match object; span=(233, 234), match='r'>\n",
      "<re.Match object; span=(235, 236), match='M'>\n",
      "<re.Match object; span=(236, 237), match='r'>\n",
      "<re.Match object; span=(238, 239), match='S'>\n",
      "<re.Match object; span=(239, 240), match='m'>\n",
      "<re.Match object; span=(240, 241), match='i'>\n",
      "<re.Match object; span=(241, 242), match='t'>\n",
      "<re.Match object; span=(242, 243), match='h'>\n",
      "<re.Match object; span=(244, 245), match='M'>\n",
      "<re.Match object; span=(245, 246), match='s'>\n",
      "<re.Match object; span=(247, 248), match='D'>\n",
      "<re.Match object; span=(248, 249), match='a'>\n",
      "<re.Match object; span=(249, 250), match='v'>\n",
      "<re.Match object; span=(250, 251), match='i'>\n",
      "<re.Match object; span=(251, 252), match='s'>\n",
      "<re.Match object; span=(253, 254), match='M'>\n",
      "<re.Match object; span=(254, 255), match='r'>\n",
      "<re.Match object; span=(255, 256), match='s'>\n",
      "<re.Match object; span=(258, 259), match='R'>\n",
      "<re.Match object; span=(259, 260), match='o'>\n",
      "<re.Match object; span=(260, 261), match='b'>\n",
      "<re.Match object; span=(261, 262), match='i'>\n",
      "<re.Match object; span=(262, 263), match='n'>\n",
      "<re.Match object; span=(263, 264), match='s'>\n",
      "<re.Match object; span=(264, 265), match='o'>\n",
      "<re.Match object; span=(265, 266), match='n'>\n",
      "<re.Match object; span=(267, 268), match='M'>\n",
      "<re.Match object; span=(268, 269), match='r'>\n",
      "<re.Match object; span=(271, 272), match='T'>\n"
     ]
    }
   ],
   "source": [
    "pattern = re.compile(r'[a-zA-Z]') \n",
    "\n",
    "matches = pattern.finditer(text_to_search)\n",
    "\n",
    "for match in matches:\n",
    "    print(match)"
   ]
  },
  {
   "cell_type": "code",
   "execution_count": 67,
   "metadata": {
    "collapsed": true
   },
   "outputs": [
    {
     "name": "stdout",
     "output_type": "stream",
     "text": [
      "<re.Match object; span=(0, 1), match='\\n'>\n",
      "<re.Match object; span=(27, 28), match='\\n'>\n",
      "<re.Match object; span=(54, 55), match='\\n'>\n",
      "<re.Match object; span=(55, 56), match='1'>\n",
      "<re.Match object; span=(56, 57), match='2'>\n",
      "<re.Match object; span=(57, 58), match='3'>\n",
      "<re.Match object; span=(58, 59), match='4'>\n",
      "<re.Match object; span=(59, 60), match='5'>\n",
      "<re.Match object; span=(60, 61), match='6'>\n",
      "<re.Match object; span=(61, 62), match='7'>\n",
      "<re.Match object; span=(62, 63), match='8'>\n",
      "<re.Match object; span=(63, 64), match='9'>\n",
      "<re.Match object; span=(64, 65), match='0'>\n",
      "<re.Match object; span=(65, 66), match='\\n'>\n",
      "<re.Match object; span=(66, 67), match='\\n'>\n",
      "<re.Match object; span=(69, 70), match=' '>\n",
      "<re.Match object; span=(74, 75), match='\\n'>\n",
      "<re.Match object; span=(75, 76), match='\\n'>\n",
      "<re.Match object; span=(90, 91), match=' '>\n",
      "<re.Match object; span=(91, 92), match='('>\n",
      "<re.Match object; span=(96, 97), match=' '>\n",
      "<re.Match object; span=(99, 100), match=' '>\n",
      "<re.Match object; span=(102, 103), match=' '>\n",
      "<re.Match object; span=(110, 111), match=')'>\n",
      "<re.Match object; span=(111, 112), match=':'>\n",
      "<re.Match object; span=(112, 113), match='\\n'>\n",
      "<re.Match object; span=(113, 114), match='.'>\n",
      "<re.Match object; span=(114, 115), match=' '>\n",
      "<re.Match object; span=(115, 116), match='^'>\n",
      "<re.Match object; span=(116, 117), match=' '>\n",
      "<re.Match object; span=(117, 118), match='$'>\n",
      "<re.Match object; span=(118, 119), match=' '>\n",
      "<re.Match object; span=(119, 120), match='*'>\n",
      "<re.Match object; span=(120, 121), match=' '>\n",
      "<re.Match object; span=(121, 122), match='+'>\n",
      "<re.Match object; span=(122, 123), match=' '>\n",
      "<re.Match object; span=(123, 124), match='?'>\n",
      "<re.Match object; span=(124, 125), match=' '>\n",
      "<re.Match object; span=(125, 126), match='{'>\n",
      "<re.Match object; span=(126, 127), match=' '>\n",
      "<re.Match object; span=(127, 128), match='}'>\n",
      "<re.Match object; span=(128, 129), match=' '>\n",
      "<re.Match object; span=(129, 130), match='['>\n",
      "<re.Match object; span=(130, 131), match=' '>\n",
      "<re.Match object; span=(131, 132), match=']'>\n",
      "<re.Match object; span=(132, 133), match=' '>\n",
      "<re.Match object; span=(133, 134), match='\\\\'>\n",
      "<re.Match object; span=(134, 135), match=' '>\n",
      "<re.Match object; span=(135, 136), match='|'>\n",
      "<re.Match object; span=(136, 137), match=' '>\n",
      "<re.Match object; span=(137, 138), match='('>\n",
      "<re.Match object; span=(138, 139), match=' '>\n",
      "<re.Match object; span=(139, 140), match=')'>\n",
      "<re.Match object; span=(140, 141), match='\\n'>\n",
      "<re.Match object; span=(141, 142), match='\\n'>\n",
      "<re.Match object; span=(151, 152), match='.'>\n",
      "<re.Match object; span=(155, 156), match='\\n'>\n",
      "<re.Match object; span=(156, 157), match='\\n'>\n",
      "<re.Match object; span=(157, 158), match='3'>\n",
      "<re.Match object; span=(158, 159), match='2'>\n",
      "<re.Match object; span=(159, 160), match='1'>\n",
      "<re.Match object; span=(160, 161), match='-'>\n",
      "<re.Match object; span=(161, 162), match='5'>\n",
      "<re.Match object; span=(162, 163), match='5'>\n",
      "<re.Match object; span=(163, 164), match='5'>\n",
      "<re.Match object; span=(164, 165), match='-'>\n",
      "<re.Match object; span=(165, 166), match='4'>\n",
      "<re.Match object; span=(166, 167), match='3'>\n",
      "<re.Match object; span=(167, 168), match='2'>\n",
      "<re.Match object; span=(168, 169), match='1'>\n",
      "<re.Match object; span=(169, 170), match='\\n'>\n",
      "<re.Match object; span=(170, 171), match='1'>\n",
      "<re.Match object; span=(171, 172), match='2'>\n",
      "<re.Match object; span=(172, 173), match='3'>\n",
      "<re.Match object; span=(173, 174), match='.'>\n",
      "<re.Match object; span=(174, 175), match='5'>\n",
      "<re.Match object; span=(175, 176), match='5'>\n",
      "<re.Match object; span=(176, 177), match='5'>\n",
      "<re.Match object; span=(177, 178), match='.'>\n",
      "<re.Match object; span=(178, 179), match='1'>\n",
      "<re.Match object; span=(179, 180), match='2'>\n",
      "<re.Match object; span=(180, 181), match='3'>\n",
      "<re.Match object; span=(181, 182), match='4'>\n",
      "<re.Match object; span=(182, 183), match='\\n'>\n",
      "<re.Match object; span=(183, 184), match='1'>\n",
      "<re.Match object; span=(184, 185), match='2'>\n",
      "<re.Match object; span=(185, 186), match='3'>\n",
      "<re.Match object; span=(186, 187), match='*'>\n",
      "<re.Match object; span=(187, 188), match='5'>\n",
      "<re.Match object; span=(188, 189), match='5'>\n",
      "<re.Match object; span=(189, 190), match='5'>\n",
      "<re.Match object; span=(190, 191), match='*'>\n",
      "<re.Match object; span=(191, 192), match='1'>\n",
      "<re.Match object; span=(192, 193), match='2'>\n",
      "<re.Match object; span=(193, 194), match='3'>\n",
      "<re.Match object; span=(194, 195), match='4'>\n",
      "<re.Match object; span=(195, 196), match='\\n'>\n",
      "<re.Match object; span=(196, 197), match='8'>\n",
      "<re.Match object; span=(197, 198), match='0'>\n",
      "<re.Match object; span=(198, 199), match='0'>\n",
      "<re.Match object; span=(199, 200), match='-'>\n",
      "<re.Match object; span=(200, 201), match='5'>\n",
      "<re.Match object; span=(201, 202), match='5'>\n",
      "<re.Match object; span=(202, 203), match='5'>\n",
      "<re.Match object; span=(203, 204), match='-'>\n",
      "<re.Match object; span=(204, 205), match='1'>\n",
      "<re.Match object; span=(205, 206), match='2'>\n",
      "<re.Match object; span=(206, 207), match='3'>\n",
      "<re.Match object; span=(207, 208), match='4'>\n",
      "<re.Match object; span=(208, 209), match='\\n'>\n",
      "<re.Match object; span=(209, 210), match='9'>\n",
      "<re.Match object; span=(210, 211), match='0'>\n",
      "<re.Match object; span=(211, 212), match='0'>\n",
      "<re.Match object; span=(212, 213), match='-'>\n",
      "<re.Match object; span=(213, 214), match='5'>\n",
      "<re.Match object; span=(214, 215), match='5'>\n",
      "<re.Match object; span=(215, 216), match='5'>\n",
      "<re.Match object; span=(216, 217), match='-'>\n",
      "<re.Match object; span=(217, 218), match='1'>\n",
      "<re.Match object; span=(218, 219), match='2'>\n",
      "<re.Match object; span=(219, 220), match='3'>\n",
      "<re.Match object; span=(220, 221), match='4'>\n",
      "<re.Match object; span=(221, 222), match='\\n'>\n",
      "<re.Match object; span=(222, 223), match='\\n'>\n",
      "<re.Match object; span=(225, 226), match='.'>\n",
      "<re.Match object; span=(226, 227), match=' '>\n",
      "<re.Match object; span=(234, 235), match='\\n'>\n",
      "<re.Match object; span=(237, 238), match=' '>\n",
      "<re.Match object; span=(243, 244), match='\\n'>\n",
      "<re.Match object; span=(246, 247), match=' '>\n",
      "<re.Match object; span=(252, 253), match='\\n'>\n",
      "<re.Match object; span=(256, 257), match='.'>\n",
      "<re.Match object; span=(257, 258), match=' '>\n",
      "<re.Match object; span=(266, 267), match='\\n'>\n",
      "<re.Match object; span=(269, 270), match='.'>\n",
      "<re.Match object; span=(270, 271), match=' '>\n",
      "<re.Match object; span=(272, 273), match='\\n'>\n"
     ]
    }
   ],
   "source": [
    "pattern = re.compile(r'[^a-zA-Z]')  # avoid or negaite\n",
    "\n",
    "matches = pattern.finditer(text_to_search)\n",
    "\n",
    "for match in matches:\n",
    "    print(match)"
   ]
  },
  {
   "cell_type": "code",
   "execution_count": 70,
   "metadata": {},
   "outputs": [
    {
     "name": "stdout",
     "output_type": "stream",
     "text": [
      "<re.Match object; span=(274, 277), match='cat'>\n",
      "<re.Match object; span=(278, 281), match='mat'>\n",
      "<re.Match object; span=(282, 285), match='pat'>\n"
     ]
    }
   ],
   "source": [
    "pattern = re.compile(r'[^b]at') \n",
    "\n",
    "matches = pattern.finditer(text_to_search)\n",
    "\n",
    "for match in matches:\n",
    "    print(match)"
   ]
  },
  {
   "cell_type": "code",
   "execution_count": null,
   "metadata": {},
   "outputs": [],
   "source": [
    "#Quatifiers"
   ]
  },
  {
   "cell_type": "code",
   "execution_count": 75,
   "metadata": {},
   "outputs": [
    {
     "name": "stdout",
     "output_type": "stream",
     "text": [
      "<re.Match object; span=(183, 195), match='123*555*1234'>\n"
     ]
    }
   ],
   "source": [
    "pattern = re.compile(r'\\d{3}\\*\\d{3}\\*\\d{4}') \n",
    "\n",
    "matches = pattern.finditer(text_to_search)\n",
    "\n",
    "for match in matches:\n",
    "    print(match)"
   ]
  },
  {
   "cell_type": "code",
   "execution_count": 76,
   "metadata": {},
   "outputs": [
    {
     "name": "stdout",
     "output_type": "stream",
     "text": [
      "<re.Match object; span=(223, 226), match='Mr.'>\n",
      "<re.Match object; span=(235, 238), match='Mr '>\n",
      "<re.Match object; span=(253, 256), match='Mrs'>\n",
      "<re.Match object; span=(267, 270), match='Mr.'>\n"
     ]
    }
   ],
   "source": [
    "pattern = re.compile(r\"Mr.\") \n",
    "\n",
    "matches = pattern.finditer(text_to_search)\n",
    "\n",
    "for match in matches:\n",
    "    print(match)"
   ]
  },
  {
   "cell_type": "code",
   "execution_count": 102,
   "metadata": {},
   "outputs": [
    {
     "name": "stdout",
     "output_type": "stream",
     "text": [
      "<re.Match object; span=(223, 234), match='Mr. Schafer'>\n",
      "<re.Match object; span=(235, 243), match='Mr Smith'>\n",
      "<re.Match object; span=(267, 272), match='Mr. T'>\n"
     ]
    }
   ],
   "source": [
    "pattern = re.compile(r\"Mr\\.?\\s[A-Z]\\w*\") \n",
    "\n",
    "matches = pattern.finditer(text_to_search)\n",
    "\n",
    "for match in matches:\n",
    "    print(match)"
   ]
  },
  {
   "cell_type": "code",
   "execution_count": 103,
   "metadata": {},
   "outputs": [
    {
     "name": "stdout",
     "output_type": "stream",
     "text": [
      "<re.Match object; span=(223, 234), match='Mr. Schafer'>\n",
      "<re.Match object; span=(235, 243), match='Mr Smith'>\n",
      "<re.Match object; span=(244, 252), match='Ms Davis'>\n",
      "<re.Match object; span=(253, 266), match='Mrs. Robinson'>\n",
      "<re.Match object; span=(267, 272), match='Mr. T'>\n"
     ]
    }
   ],
   "source": [
    "pattern = re.compile(r\"M(r|s|rs)\\.?\\s[A-Z]\\w*\") \n",
    "\n",
    "matches = pattern.finditer(text_to_search)\n",
    "\n",
    "for match in matches:\n",
    "    print(match)"
   ]
  },
  {
   "cell_type": "code",
   "execution_count": 104,
   "metadata": {
    "scrolled": true
   },
   "outputs": [
    {
     "name": "stdout",
     "output_type": "stream",
     "text": [
      "<re.Match object; span=(223, 234), match='Mr. Schafer'>\n",
      "<re.Match object; span=(235, 243), match='Mr Smith'>\n",
      "<re.Match object; span=(244, 252), match='Ms Davis'>\n",
      "<re.Match object; span=(253, 266), match='Mrs. Robinson'>\n",
      "<re.Match object; span=(267, 272), match='Mr. T'>\n"
     ]
    }
   ],
   "source": [
    "pattern = re.compile(r\"(Mr|Ms|Mrs)\\.?\\s[A-Z]\\w*\") \n",
    "\n",
    "matches = pattern.finditer(text_to_search)\n",
    "\n",
    "for match in matches:\n",
    "    print(match)"
   ]
  },
  {
   "cell_type": "code",
   "execution_count": 125,
   "metadata": {},
   "outputs": [
    {
     "name": "stdout",
     "output_type": "stream",
     "text": [
      "Mr\n",
      "Mr\n",
      "Ms\n",
      "Mrs\n",
      "Mr\n"
     ]
    }
   ],
   "source": [
    "pattern = re.compile(r\"(Mr|Ms|Mrs)\\.?\\s[A-Z]\\w*\") \n",
    "\n",
    "matches = pattern.findall(text_to_search)\n",
    "\n",
    "for match in matches:\n",
    "    print(match)"
   ]
  },
  {
   "cell_type": "code",
   "execution_count": 110,
   "metadata": {},
   "outputs": [],
   "source": [
    "import re\n",
    "\n",
    "emails = '''\n",
    "MdMynuddin@gmail.com\n",
    "md.mynuddin@university.edu\n",
    "md.404.mynuddin@my-work.net\n",
    "'''\n"
   ]
  },
  {
   "cell_type": "code",
   "execution_count": 111,
   "metadata": {},
   "outputs": [
    {
     "name": "stdout",
     "output_type": "stream",
     "text": [
      "<re.Match object; span=(1, 21), match='MdMynuddin@gmail.com'>\n"
     ]
    }
   ],
   "source": [
    "pattern = re.compile(r'[a-zA-Z]+@[a-zA-Z]+\\.com')\n",
    "\n",
    "matches = pattern.finditer(emails)\n",
    "\n",
    "for match in matches:\n",
    "    print(match)"
   ]
  },
  {
   "cell_type": "code",
   "execution_count": 112,
   "metadata": {},
   "outputs": [
    {
     "name": "stdout",
     "output_type": "stream",
     "text": [
      "<re.Match object; span=(1, 21), match='MdMynuddin@gmail.com'>\n",
      "<re.Match object; span=(22, 48), match='md.mynuddin@university.edu'>\n"
     ]
    }
   ],
   "source": [
    "pattern = re.compile(r'[a-zA-Z.]+@[a-zA-Z]+\\.(com|edu)')\n",
    "\n",
    "matches = pattern.finditer(emails)\n",
    "\n",
    "for match in matches:\n",
    "    print(match)"
   ]
  },
  {
   "cell_type": "code",
   "execution_count": 113,
   "metadata": {},
   "outputs": [
    {
     "name": "stdout",
     "output_type": "stream",
     "text": [
      "<re.Match object; span=(1, 21), match='MdMynuddin@gmail.com'>\n",
      "<re.Match object; span=(22, 48), match='md.mynuddin@university.edu'>\n",
      "<re.Match object; span=(49, 76), match='md.404.mynuddin@my-work.net'>\n"
     ]
    }
   ],
   "source": [
    "pattern = re.compile(r'[a-zA-Z0-9.]+@[a-zA-Z-]+\\.(com|edu|net)')\n",
    "\n",
    "matches = pattern.finditer(emails)\n",
    "\n",
    "for match in matches:\n",
    "    print(match)"
   ]
  },
  {
   "cell_type": "code",
   "execution_count": 114,
   "metadata": {},
   "outputs": [
    {
     "name": "stdout",
     "output_type": "stream",
     "text": [
      "<re.Match object; span=(1, 21), match='MdMynuddin@gmail.com'>\n",
      "<re.Match object; span=(22, 48), match='md.mynuddin@university.edu'>\n",
      "<re.Match object; span=(49, 76), match='md.404.mynuddin@my-work.net'>\n"
     ]
    }
   ],
   "source": [
    "pattern = re.compile(r'[a-zA-Z0-9_.+-]+@[a-zA-Z0-9-]+\\.[a-zA-Z0-9-.]+')\n",
    "\n",
    "matches = pattern.finditer(emails)\n",
    "\n",
    "for match in matches:\n",
    "    print(match)"
   ]
  },
  {
   "cell_type": "code",
   "execution_count": 115,
   "metadata": {},
   "outputs": [],
   "source": [
    "\n",
    "urls = '''\n",
    "https://www.google.com\n",
    "http://coreyms.com\n",
    "https://youtube.com\n",
    "https://www.nasa.gov\n",
    "'''\n"
   ]
  },
  {
   "cell_type": "code",
   "execution_count": 117,
   "metadata": {
    "scrolled": true
   },
   "outputs": [
    {
     "name": "stdout",
     "output_type": "stream",
     "text": [
      "<re.Match object; span=(1, 13), match='https://www.'>\n",
      "<re.Match object; span=(24, 31), match='http://'>\n",
      "<re.Match object; span=(43, 51), match='https://'>\n",
      "<re.Match object; span=(63, 75), match='https://www.'>\n"
     ]
    }
   ],
   "source": [
    "\n",
    "pattern = re.compile(r'https?://(www\\.)?')\n",
    "\n",
    "matches = pattern.finditer(urls)\n",
    "\n",
    "for match in matches:\n",
    "    print(match)"
   ]
  },
  {
   "cell_type": "code",
   "execution_count": 119,
   "metadata": {},
   "outputs": [
    {
     "name": "stdout",
     "output_type": "stream",
     "text": [
      "<re.Match object; span=(1, 23), match='https://www.google.com'>\n",
      "<re.Match object; span=(24, 42), match='http://coreyms.com'>\n",
      "<re.Match object; span=(43, 62), match='https://youtube.com'>\n",
      "<re.Match object; span=(63, 83), match='https://www.nasa.gov'>\n"
     ]
    }
   ],
   "source": [
    "\n",
    "pattern = re.compile(r'https?://(www\\.)?\\w+\\.\\w+')\n",
    "\n",
    "matches = pattern.finditer(urls)\n",
    "\n",
    "for match in matches:\n",
    "    print(match)"
   ]
  },
  {
   "cell_type": "code",
   "execution_count": 116,
   "metadata": {},
   "outputs": [
    {
     "name": "stdout",
     "output_type": "stream",
     "text": [
      "<re.Match object; span=(1, 23), match='https://www.google.com'>\n",
      "<re.Match object; span=(24, 42), match='http://coreyms.com'>\n",
      "<re.Match object; span=(43, 62), match='https://youtube.com'>\n",
      "<re.Match object; span=(63, 83), match='https://www.nasa.gov'>\n"
     ]
    }
   ],
   "source": [
    "\n",
    "pattern = re.compile(r'https?://(www\\.)?(\\w+)(\\.\\w+)')\n",
    "\n",
    "matches = pattern.finditer(urls)\n",
    "\n",
    "for match in matches:\n",
    "    print(match)"
   ]
  },
  {
   "cell_type": "code",
   "execution_count": 120,
   "metadata": {
    "scrolled": true
   },
   "outputs": [
    {
     "name": "stdout",
     "output_type": "stream",
     "text": [
      "https://www.google.com\n",
      "http://coreyms.com\n",
      "https://youtube.com\n",
      "https://www.nasa.gov\n"
     ]
    }
   ],
   "source": [
    "\n",
    "pattern = re.compile(r'https?://(www\\.)?(\\w+)(\\.\\w+)')\n",
    "\n",
    "matches = pattern.finditer(urls)\n",
    "\n",
    "for match in matches:\n",
    "    print(match.group(0))"
   ]
  },
  {
   "cell_type": "code",
   "execution_count": 121,
   "metadata": {},
   "outputs": [
    {
     "name": "stdout",
     "output_type": "stream",
     "text": [
      "www.\n",
      "None\n",
      "None\n",
      "www.\n"
     ]
    }
   ],
   "source": [
    "pattern = re.compile(r'https?://(www\\.)?(\\w+)(\\.\\w+)')\n",
    "\n",
    "matches = pattern.finditer(urls)\n",
    "\n",
    "for match in matches:\n",
    "    print(match.group(1))"
   ]
  },
  {
   "cell_type": "code",
   "execution_count": 122,
   "metadata": {},
   "outputs": [
    {
     "name": "stdout",
     "output_type": "stream",
     "text": [
      "google\n",
      "coreyms\n",
      "youtube\n",
      "nasa\n"
     ]
    }
   ],
   "source": [
    "pattern = re.compile(r'https?://(www\\.)?(\\w+)(\\.\\w+)')\n",
    "\n",
    "matches = pattern.finditer(urls)\n",
    "\n",
    "for match in matches:\n",
    "    print(match.group(2))"
   ]
  },
  {
   "cell_type": "code",
   "execution_count": 123,
   "metadata": {
    "scrolled": true
   },
   "outputs": [
    {
     "name": "stdout",
     "output_type": "stream",
     "text": [
      ".com\n",
      ".com\n",
      ".com\n",
      ".gov\n"
     ]
    }
   ],
   "source": [
    "pattern = re.compile(r'https?://(www\\.)?(\\w+)(\\.\\w+)')\n",
    "\n",
    "matches = pattern.finditer(urls)\n",
    "\n",
    "for match in matches:\n",
    "    print(match.group(3))"
   ]
  },
  {
   "cell_type": "code",
   "execution_count": 124,
   "metadata": {},
   "outputs": [
    {
     "name": "stdout",
     "output_type": "stream",
     "text": [
      "\n",
      "google.com\n",
      "coreyms.com\n",
      "youtube.com\n",
      "nasa.gov\n",
      "\n"
     ]
    }
   ],
   "source": [
    "\n",
    "pattern = re.compile(r'https?://(www\\.)?(\\w+)(\\.\\w+)')\n",
    "\n",
    "subbed_urls = pattern.sub(r'\\2\\3', urls)\n",
    "\n",
    "print(subbed_urls)\n"
   ]
  },
  {
   "cell_type": "markdown",
   "metadata": {},
   "source": [
    "# MetaCharacters"
   ]
  },
  {
   "cell_type": "markdown",
   "metadata": {},
   "source": [
    "<pre>\n",
    ".       - Any Character Except New Line\n",
    "\\d      - Digit (0-9)\n",
    "\\D      - Not a Digit (0-9)\n",
    "\\w      - Word Character (a-z, A-Z, 0-9, _)\n",
    "\\W      - Not a Word Character\n",
    "\\s      - Whitespace (space, tab, newline)\n",
    "\\S      - Not Whitespace (space, tab, newline)\n",
    "\n",
    "\\b      - Word Boundary\n",
    "\\B      - Not a Word Boundary\n",
    "^       - Beginning of a String\n",
    "$       - End of a String\n",
    "\n",
    "[]      - Matches Characters in brackets\n",
    "[^ ]    - Matches Characters NOT in brackets\n",
    "|       - Either Or\n",
    "( )     - Group\n",
    "\n",
    "Quantifiers:\n",
    "*       - 0 or More\n",
    "+       - 1 or More\n",
    "?       - 0 or One\n",
    "{3}     - Exact Number\n",
    "{3,4}   - Range of Numbers (Minimum, Maximum)\n",
    "\n",
    "\n",
    "#### Sample Regexs ####\n",
    "\n",
    "[a-zA-Z0-9_.+-]+@[a-zA-Z0-9-]+\\.[a-zA-Z0-9-.]+\n",
    "</pre>"
   ]
  },
  {
   "cell_type": "code",
   "execution_count": null,
   "metadata": {},
   "outputs": [],
   "source": []
  }
 ],
 "metadata": {
  "kernelspec": {
   "display_name": "Python 3",
   "language": "python",
   "name": "python3"
  },
  "language_info": {
   "codemirror_mode": {
    "name": "ipython",
    "version": 3
   },
   "file_extension": ".py",
   "mimetype": "text/x-python",
   "name": "python",
   "nbconvert_exporter": "python",
   "pygments_lexer": "ipython3",
   "version": "3.7.4"
  }
 },
 "nbformat": 4,
 "nbformat_minor": 4
}
